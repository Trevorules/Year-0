{
 "cells": [
  {
   "cell_type": "code",
   "execution_count": 1014,
   "metadata": {},
   "outputs": [],
   "source": [
    "import random\n",
    "import numpy as np\n",
    "import matplotlib.pyplot as plt\n",
    "import forward_backward as fb\n",
    "np.random.seed(12345)"
   ]
  },
  {
   "cell_type": "code",
   "execution_count": 1460,
   "metadata": {
    "scrolled": true
   },
   "outputs": [],
   "source": [
    "def generating_states(pi,A,Ntimes):\n",
    "    \n",
    "    Q = np.empty(Ntimes).astype('int')\n",
    "\n",
    "    Nstates=np.shape(A)[0]\n",
    "    \n",
    "    states = np.zeros((Nstates, Ntimes))\n",
    "    \n",
    "    Q[0]=np.random.choice(Nstates,1,p=pi)[0]\n",
    "    \n",
    "    states[int(Q[0]),0]=1\n",
    "    \n",
    "    for t in range(1, Ntimes):\n",
    "        \n",
    "        Q[t]=np.random.choice(Nstates,1,p=A[Q[t-1]])[0]\n",
    "        \n",
    "        states[Q[t],t]=1\n",
    "        \n",
    "    return Q, states"
   ]
  },
  {
   "cell_type": "code",
   "execution_count": 1461,
   "metadata": {
    "scrolled": true
   },
   "outputs": [],
   "source": [
    "pi=np.array([.8,.2])\n",
    "A = np.array([[.9, .1, ], [.2, .8]])\n",
    "B = np.array([[.9, .05, .05], [.1, .2, .7]])\n",
    "Ntimes=20000\n",
    "Nstates=2"
   ]
  },
  {
   "cell_type": "code",
   "execution_count": 1462,
   "metadata": {
    "scrolled": true
   },
   "outputs": [],
   "source": [
    "Q, states=generating_states(pi,A,Ntimes)\n",
    "\n",
    "#np.savetxt"
   ]
  },
  {
   "cell_type": "code",
   "execution_count": 1463,
   "metadata": {
    "scrolled": true
   },
   "outputs": [],
   "source": [
    "def generating_observations(Q,B):\n",
    "\n",
    "    Ntimes=np.size(Q)\n",
    "    \n",
    "    O = np.empty(Ntimes).astype('int')\n",
    "    \n",
    "    Nstates=np.size(B[:,0])\n",
    "    \n",
    "    Nobservations= np.size(B[0,:])\n",
    "    \n",
    "    O_mat=np.zeros((Nobservations,Ntimes))\n",
    "    \n",
    "    for t in range(Ntimes):\n",
    "        \n",
    "        O[t]=np.random.choice(Nobservations,1,p=B[Q[t]])[0]\n",
    "        \n",
    "        O_mat[O[t],t]=1\n",
    "        \n",
    "    return O, O_mat"
   ]
  },
  {
   "cell_type": "code",
   "execution_count": 1464,
   "metadata": {
    "scrolled": true
   },
   "outputs": [],
   "source": [
    "\n",
    "O, O_mat = generating_observations(Q,B)    \n",
    "\n",
    "#Generate observations from the state\n",
    "#do forward to due to the probabliities"
   ]
  },
  {
   "cell_type": "code",
   "execution_count": 1465,
   "metadata": {},
   "outputs": [],
   "source": [
    "def forward_online(O, A_guess, B_guess, pi):\n",
    "    \n",
    "    T = O.shape[0]\n",
    "    \n",
    "    N = A_guess.shape[0]\n",
    "    \n",
    "    alpha = np.zeros((N, T-1))# p(z_t|y_{1:T})\n",
    "    gamma = np.zeros((N, T-1))# p(z_t|y_{1:T})\n",
    "    delta = np.empty((N,N,T-1))\n",
    "    xi=np.empty((N,N))\n",
    "    test=np.empty((N,N))\n",
    "    \n",
    "    err=np.zeros(T)\n",
    "    err2=np.zeros(T)\n",
    "    S=np.zeros(T)\n",
    "    store=np.zeros(T)\n",
    "    a=np.zeros(N)\n",
    "    count=np.zeros(N)\n",
    "    theta=10**-3\n",
    "    Xi=np.zeros((N,N))\n",
    "    alpha[:,0]=pi*B_guess[:,int(O[0])]\n",
    "        \n",
    "    alpha[:,0]=alpha[:,0]/sum(alpha[s,0] for s in range(N))\n",
    "    \n",
    "    N, Nobservations = B_guess.shape\n",
    "    \n",
    "    b=np.zeros((N,Nobservations))\n",
    "    \n",
    "    A_true = np.array([[.9, .1, ], [.2, .8]])\n",
    "#     A_guess = np.array([[.9, .1, ], [.2, .8]])\n",
    "    B_true = np.array([[.9, .05, .05], [.1, .2, .7]])\n",
    "    \n",
    "   \n",
    "    #T=19\n",
    "    \n",
    "    for t in range(1,T-1):    \n",
    "        asum = 0.0    \n",
    "        xisum= 0.0\n",
    "\n",
    "        #Forward Step\n",
    "        for s in range(N):\n",
    "\n",
    "            alpha[s,t]=sum([alpha[j,t-1]*A_guess[j,s]*B_guess[s,int(O[t])] for j in range(N)])\n",
    "\n",
    "            asum += alpha[s,t] \n",
    "\n",
    "        for s in range(N):       \n",
    "\n",
    "            alpha[s,t] =alpha[s,t]/asum\n",
    "\n",
    "        a = theta*alpha[:,t]+(1-theta)*a\n",
    "\n",
    "        #E-step\n",
    "\n",
    "        for s in range(N):\n",
    "\n",
    "            for j in range(N):\n",
    "\n",
    "                xi[s,j]=B_guess[j,int(O[t])]*A_guess[s,j]*alpha[s,t-1]\n",
    "\n",
    "                xisum += xi[s,j]\n",
    "\n",
    "        xi=xi/xisum\n",
    "\n",
    "        Xi = theta*xi+(1-theta)*Xi\n",
    "\n",
    "        for v in range(Nobservations):\n",
    "\n",
    "            for j in range(N):\n",
    "\n",
    "                if v==O[t]:\n",
    "\n",
    "                    b[j,v] = theta*alpha[j,t]+(1-theta)*(b[j,v])         \n",
    "\n",
    "                    B_guess[j,v]=b[j,v]/a[j]\n",
    "                    \n",
    "                else:\n",
    "                    \n",
    "                    b[j,v]=(1-theta)*(b[j,v])\n",
    "                    \n",
    "                    \n",
    "#         for v in range(Nobservations):\n",
    "\n",
    "#             if v==O[t]:\n",
    "\n",
    "#                 jj= np.argmax(alpha[:,t])   \n",
    "                    \n",
    "#                 b[jj,v] += 1\n",
    "                \n",
    "#                 count[jj] += 1\n",
    "                \n",
    "#                 B_guess[jj,v]=b[jj,v]/count[jj]\n",
    "            \n",
    "        S[t]=np.linalg.norm(A_guess-Xi/a)\n",
    "        store[t]=S[t]-S[t-1]\n",
    "        if abs(store[t])<.0008 :\n",
    "            S[t]=S[t]\n",
    "        else:\n",
    "            for s in range(N):\n",
    "                A_guess[:,s]= Xi[s,:]/a\n",
    "\n",
    "        err[t]=np.linalg.norm(A_true-A_guess)\n",
    "        err2[t]=np.linalg.norm(B_true-B_guess)\n",
    "\n",
    "    A= A_guess\n",
    "    B= B_guess\n",
    "    \n",
    "    return A, B, xi, alpha, b, a, err, err2, S, store, "
   ]
  },
  {
   "cell_type": "code",
   "execution_count": 1466,
   "metadata": {},
   "outputs": [
    {
     "name": "stdout",
     "output_type": "stream",
     "text": [
      "[[0.88926581 0.11073419]\n",
      " [0.20831247 0.79168753]]\n",
      "[[0.90060034 0.05134235 0.04874654]\n",
      " [0.11988144 0.19471613 0.68747781]]\n"
     ]
    },
    {
     "data": {
      "text/plain": [
       "[<matplotlib.lines.Line2D at 0x1a62a472908>]"
      ]
     },
     "execution_count": 1466,
     "metadata": {},
     "output_type": "execute_result"
    },
    {
     "data": {
      "image/png": "[encoded data removed]",
      "text/plain": [
       "<Figure size 432x288 with 1 Axes>"
      ]
     },
     "metadata": {
      "needs_background": "light"
     },
     "output_type": "display_data"
    }
   ],
   "source": [
    "A = np.array([[.65, .35 ], [.1, .9]])  #incorrect guesses\n",
    "B = np.array([[.7, .2, .1], [.1, .3, .6]]) #incorrect guesses\n",
    "#A = np.array([[.9, .1, ], [.2, .8]]) #correct A\n",
    "#B = np.array([[.9, .05, .05], [.1, .2, .7]]) #correct B guess\n",
    "A_guess, B_guess, xi, alpha, b, a, err, err2,dif,dif2 =forward_online(O, A, B, pi)\n",
    "\n",
    "print(A_guess)\n",
    "print(B_guess)\n",
    "plt.plot(err)\n",
    "plt.plot(err2)"
   ]
  },
  {
   "cell_type": "code",
   "execution_count": 1428,
   "metadata": {},
   "outputs": [
    {
     "name": "stdout",
     "output_type": "stream",
     "text": [
      "[[11983.   704.   695.]\n",
      " [  675.  1324.  4619.]]\n",
      "[[0.89545658 0.05260798 0.05193544]\n",
      " [0.10199456 0.20006044 0.697945  ]]\n"
     ]
    }
   ],
   "source": [
    "true_count=np.zeros((2,3))\n",
    "for s in range(2):\n",
    "    for v in range(3):\n",
    "        true_count[s,v]=sum(O[Q==s]==v)\n",
    "print(true_count) # number of times an observation was correctly observed at a given state\n",
    "\n",
    "print(((true_count).T/np.sum(true_count,1)).T) #nuumber of times an o"
   ]
  },
  {
   "cell_type": "code",
   "execution_count": 1467,
   "metadata": {},
   "outputs": [
    {
     "data": {
      "text/plain": [
       "0.05418241064981846"
      ]
     },
     "execution_count": 1467,
     "metadata": {},
     "output_type": "execute_result"
    }
   ],
   "source": [
    "err2[9998]"
   ]
  },
  {
   "cell_type": "code",
   "execution_count": 1468,
   "metadata": {},
   "outputs": [
    {
     "data": {
      "text/plain": [
       "0.03402030181388804"
      ]
     },
     "execution_count": 1468,
     "metadata": {},
     "output_type": "execute_result"
    }
   ],
   "source": [
    "err[9998]"
   ]
  },
  {
   "cell_type": "code",
   "execution_count": 1239,
   "metadata": {},
   "outputs": [
    {
     "data": {
      "text/plain": [
       "array([ 0.00000000e+00,  5.33666037e-07, -1.44182332e-06,  9.43333416e-07,\n",
       "        1.31952145e-07,  1.12917968e-06, -1.29164788e-06, -1.96661407e-06,\n",
       "       -1.92396947e-06, -1.07921777e-06,  9.43836151e-07, -9.43868470e-07,\n",
       "       -1.29200594e-06,  6.87262862e-07,  1.91296239e-06,  7.87903734e-07,\n",
       "       -4.47112314e-08,  1.12537620e-06,  1.47605141e-06,  0.00000000e+00])"
      ]
     },
     "execution_count": 1239,
     "metadata": {},
     "output_type": "execute_result"
    }
   ],
   "source": [
    "dif2[abs(dif2)<.000002]"
   ]
  },
  {
   "cell_type": "code",
   "execution_count": 1233,
   "metadata": {},
   "outputs": [
    {
     "data": {
      "text/plain": [
       "[<matplotlib.lines.Line2D at 0x1a619a9a470>]"
      ]
     },
     "execution_count": 1233,
     "metadata": {},
     "output_type": "execute_result"
    },
    {
     "data": {
      "image/png": "[encoded data removed]",
      "text/plain": [
       "<Figure size 432x288 with 1 Axes>"
      ]
     },
     "metadata": {
      "needs_background": "light"
     },
     "output_type": "display_data"
    }
   ],
   "source": [
    "plt.plot(dif2[abs(dif2)<.00002])"
   ]
  },
  {
   "cell_type": "code",
   "execution_count": 918,
   "metadata": {},
   "outputs": [
    {
     "data": {
      "text/plain": [
       "array([[213.22390574,  11.16416851,  19.75915879],\n",
       "       [ 45.12496379,  10.63464544,  42.44732672]])"
      ]
     },
     "execution_count": 918,
     "metadata": {},
     "output_type": "execute_result"
    }
   ],
   "source": [
    "b"
   ]
  },
  {
   "cell_type": "code",
   "execution_count": 1158,
   "metadata": {},
   "outputs": [],
   "source": [
    "np.savetxt('Q',Q)\n",
    "np.savetxt('O',O)"
   ]
  },
  {
   "cell_type": "code",
   "execution_count": 1161,
   "metadata": {},
   "outputs": [],
   "source": [
    "O=np.loadtxt('O')\n",
    "Q=np.loadtxt('Q')"
   ]
  },
  {
   "cell_type": "code",
   "execution_count": 1160,
   "metadata": {},
   "outputs": [
    {
     "data": {
      "text/plain": [
       "array([1., 2., 1., ..., 1., 2., 0.])"
      ]
     },
     "execution_count": 1160,
     "metadata": {},
     "output_type": "execute_result"
    }
   ],
   "source": [
    "O"
   ]
  },
  {
   "cell_type": "code",
   "execution_count": 1192,
   "metadata": {},
   "outputs": [
    {
     "name": "stdout",
     "output_type": "stream",
     "text": [
      "Object `dif` not found.\n"
     ]
    }
   ],
   "source": [
    "dif?"
   ]
  },
  {
   "cell_type": "code",
   "execution_count": 1193,
   "metadata": {},
   "outputs": [
    {
     "ename": "AttributeError",
     "evalue": "module 'numpy' has no attribute 'dif'",
     "output_type": "error",
     "traceback": [
      "\u001b[1;31m---------------------------------------------------------------------------\u001b[0m",
      "\u001b[1;31mAttributeError\u001b[0m                            Traceback (most recent call last)",
      "\u001b[1;32m<ipython-input-1193-d106fcb46dad>\u001b[0m in \u001b[0;36m<module>\u001b[1;34m\u001b[0m\n\u001b[1;32m----> 1\u001b[1;33m \u001b[0mnp\u001b[0m\u001b[1;33m.\u001b[0m\u001b[0mdif\u001b[0m\u001b[1;33m\u001b[0m\u001b[1;33m\u001b[0m\u001b[0m\n\u001b[0m",
      "\u001b[1;31mAttributeError\u001b[0m: module 'numpy' has no attribute 'dif'"
     ]
    }
   ],
   "source": [
    "np.dif"
   ]
  },
  {
   "cell_type": "code",
   "execution_count": null,
   "metadata": {},
   "outputs": [],
   "source": []
  }
 ],
 "metadata": {
  "kernelspec": {
   "display_name": "Python 3",
   "language": "python",
   "name": "python3"
  },
  "language_info": {
   "codemirror_mode": {
    "name": "ipython",
    "version": 3
   },
   "file_extension": ".py",
   "mimetype": "text/x-python",
   "name": "python",
   "nbconvert_exporter": "python",
   "pygments_lexer": "ipython3",
   "version": "3.7.1"
  }
 },
 "nbformat": 4,
 "nbformat_minor": 4
}
