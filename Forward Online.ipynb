{
 "cells": [
  {
   "cell_type": "code",
   "execution_count": 1,
   "metadata": {},
   "outputs": [],
   "source": [
    "import random\n",
    "import numpy as np\n",
    "import matplotlib.pyplot as plt\n",
    "import forward_backward as fb\n",
    "np.random.seed(12345)"
   ]
  },
  {
   "cell_type": "code",
   "execution_count": 432,
   "metadata": {
    "scrolled": true
   },
   "outputs": [],
   "source": [
    "def generating_states(pi,A,Ntimes):\n",
    "    \n",
    "    Q = np.empty(Ntimes).astype('int')\n",
    "\n",
    "    Nstates=np.shape(A)[0]\n",
    "    \n",
    "    states = np.zeros((Nstates, Ntimes))\n",
    "    \n",
    "    Q[0]=np.random.choice(Nstates,1,p=pi)[0]\n",
    "    \n",
    "    states[int(Q[0]),0]=1\n",
    "    \n",
    "    for t in range(1, Ntimes):\n",
    "        \n",
    "        Q[t]=np.random.choice(Nstates,1,p=A[Q[t-1]])[0]\n",
    "        \n",
    "        states[Q[t],t]=1\n",
    "        \n",
    "    return Q, states"
   ]
  },
  {
   "cell_type": "code",
   "execution_count": 480,
   "metadata": {
    "scrolled": true
   },
   "outputs": [],
   "source": [
    "pi=np.array([.8,.2])\n",
    "A = np.array([[.9, .1, ], [.2, .8]])\n",
    "Ntimes=10000\n",
    "Nstates=2"
   ]
  },
  {
   "cell_type": "code",
   "execution_count": 481,
   "metadata": {
    "scrolled": true
   },
   "outputs": [],
   "source": [
    "Q, states=generating_states(pi,A,Ntimes)"
   ]
  },
  {
   "cell_type": "code",
   "execution_count": 482,
   "metadata": {
    "scrolled": true
   },
   "outputs": [],
   "source": [
    "def generating_observations(Q,B):\n",
    "\n",
    "    Ntimes=np.size(Q)\n",
    "    \n",
    "    O = np.empty(Ntimes).astype('int')\n",
    "    \n",
    "    Nstates=np.size(B[:,0])\n",
    "    \n",
    "    Nobservations= np.size(B[0,:])\n",
    "    \n",
    "    O_mat=np.zeros((Nobservations,Ntimes))\n",
    "    \n",
    "    for t in range(Ntimes):\n",
    "        \n",
    "        O[t]=np.random.choice(Nobservations,1,p=B[Q[t-1]])[0]\n",
    "        \n",
    "        O_mat[O[t],t]=1\n",
    "        \n",
    "    return O, O_mat"
   ]
  },
  {
   "cell_type": "code",
   "execution_count": 483,
   "metadata": {
    "scrolled": true
   },
   "outputs": [],
   "source": [
    "B = np.array([[.9, .05, .05], [.05, .05, .9]])\n",
    "#B = np.array([[.2, .4, .4], [.5, .4, .1]])\n",
    "\n",
    "O, O_mat = generating_observations(Q,B)    \n",
    "\n",
    "#Generate observations from the state\n",
    "#do forward to due to the probabliities"
   ]
  },
  {
   "cell_type": "code",
   "execution_count": 484,
   "metadata": {},
   "outputs": [],
   "source": [
    "def forward_online(O, A_guess, B_guess, pi):\n",
    "    \n",
    "    T = O.shape[0]\n",
    "    \n",
    "    N = A_guess.shape[0]\n",
    "    \n",
    "    alpha = np.zeros((N, T-1))# p(z_t|y_{1:T})\n",
    "    gamma = np.zeros((N, T-1))# p(z_t|y_{1:T})\n",
    "    delta = np.empty((N,N,T-1))\n",
    "    xi=np.empty((N,N))\n",
    "    test=np.empty((N,N))\n",
    "    \n",
    "    err=np.zeros(T)\n",
    "    err2=np.zeros(T)\n",
    "    a=np.zeros(N)\n",
    "    \n",
    "    Xi=np.zeros((N,N))\n",
    "    alpha[:,0]=pi*B_guess[:,int(O[0])]\n",
    "        \n",
    "    alpha[:,0]=alpha[:,0]/sum(alpha[s,0] for s in range(N))\n",
    "    \n",
    "    N, Nobservations = B_guess.shape\n",
    "    \n",
    "    b=np.zeros((N,Nobservations))\n",
    "    \n",
    "    A_true = np.array([[.9, .1, ], [.2, .8]])\n",
    "    B_true = np.array([[.9, .05, .05], [.05, .05, .9]])\n",
    "    \n",
    "   \n",
    "    #T=5000\n",
    "    \n",
    "    for t in range(1,T-1):\n",
    "        \n",
    "        asum = 0.0    \n",
    "        xisum= 0.0\n",
    "        \n",
    "        #Forward Step\n",
    "        for s in range(N):\n",
    "            \n",
    "            alpha[s,t]=sum([alpha[j,t-1]*A_guess[j,s]*B_guess[s,int(O[t])] for j in range(N)])\n",
    "            \n",
    "            asum += alpha[s,t]  \n",
    "            \n",
    "        for s in range(N):       \n",
    "            \n",
    "            alpha[s,t] =alpha[s,t]/asum\n",
    "            \n",
    "        a += alpha[:,t]\n",
    "    \n",
    "        #E-step\n",
    "        for s in range(N):\n",
    "            \n",
    "            for j in range(N):\n",
    "        \n",
    "                xi[s,j]=B_guess[j,int(O[t])]*A_guess[s,j]*alpha[s,t-1]\n",
    "            \n",
    "                xisum += xi[s,j]\n",
    "                \n",
    "        xi=xi/xisum\n",
    "        \n",
    "        Xi += xi\n",
    "\n",
    "        for v in range(Nobservations):\n",
    "            \n",
    "            for j in range(N):\n",
    "                \n",
    "                if v==O[t]:\n",
    "                    \n",
    "                    b[j,v] += alpha[j,t]\n",
    "                    \n",
    "                    B_guess[j,v]=b[j,v]/a[j]\n",
    "      \n",
    "        for s in range(N):\n",
    "             \n",
    "            A_guess[:,s]= Xi[s,:]/a\n",
    "    \n",
    "        err[t]=np.linalg.norm(A_true-A_guess)\n",
    "        err2[t]=np.linalg.norm(B_true-B_guess) \n",
    "        \n",
    "    A= A_guess\n",
    "    B= B_guess\n",
    "    \n",
    "    return A, B, xi, alpha, b, a, err, err2"
   ]
  },
  {
   "cell_type": "code",
   "execution_count": 485,
   "metadata": {},
   "outputs": [
    {
     "name": "stdout",
     "output_type": "stream",
     "text": [
      "[[0.9499832  0.0500168 ]\n",
      " [0.10905107 0.89094893]]\n",
      "[[0.84136051 0.05761596 0.10103564]\n",
      " [0.12368454 0.04074588 0.83579836]]\n"
     ]
    },
    {
     "data": {
      "text/plain": [
       "[<matplotlib.lines.Line2D at 0x1a66446ac18>]"
      ]
     },
     "execution_count": 485,
     "metadata": {},
     "output_type": "execute_result"
    },
    {
     "data": {
      "image/png": "[encoded data removed]",
      "text/plain": [
       "<Figure size 432x288 with 1 Axes>"
      ]
     },
     "metadata": {
      "needs_background": "light"
     },
     "output_type": "display_data"
    }
   ],
   "source": [
    "A = np.array([[.65, .35 ], [.1, .9]])  #incorrect guesses\n",
    "#B = np.array([[.8, .1, .1], [.09, .05, .905]]) #incorrect guesses\n",
    "#A = np.array([[.9, .1, ], [.2, .8]]) #correct A\n",
    "B = np.array([[.9, .05, .05], [.05, .05, .9]]) #correct B guess\n",
    "A_guess, B_guess, xi, alpha, b, a, err, err2 =forward_online(O, A, B, pi)\n",
    "\n",
    "print(A_guess)\n",
    "print(B_guess)\n",
    "plt.plot(err)\n",
    "plt.plot(err2)"
   ]
  }
 ],
 "metadata": {
  "kernelspec": {
   "display_name": "Python 3",
   "language": "python",
   "name": "python3"
  },
  "language_info": {
   "codemirror_mode": {
    "name": "ipython",
    "version": 3
   },
   "file_extension": ".py",
   "mimetype": "text/x-python",
   "name": "python",
   "nbconvert_exporter": "python",
   "pygments_lexer": "ipython3",
   "version": "3.7.1"
  }
 },
 "nbformat": 4,
 "nbformat_minor": 4
}
