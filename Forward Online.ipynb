{
 "cells": [
  {
   "cell_type": "code",
   "execution_count": 1,
   "metadata": {},
   "outputs": [],
   "source": [
    "import random\n",
    "import numpy as np\n",
    "import matplotlib.pyplot as plt\n",
    "import forward_backward as fb\n",
    "import gen_states_and_observation as gso\n",
    "np.random.seed(12345)"
   ]
  },
  {
   "cell_type": "code",
   "execution_count": 2,
   "metadata": {
    "scrolled": true
   },
   "outputs": [],
   "source": [
    "#initialize paramaters\n",
    "\n",
    "\n",
    "pi=np.array([.8,.2])\n",
    "A = np.array([[.9, .1, ], [.2, .8]])\n",
    "B = np.array([[.9, .05, .05], [.1, .2, .7]])\n",
    "Ntimes=20000\n",
    "\n",
    "\n",
    "#initialize states and observations\n",
    "Q, states, O, O_mat=gso.gen(pi,A,B,Ntimes)\n",
    "\n",
    "#Q is the vector of states. \n",
    "#states is th matrix of states\n",
    "#O is a vector of observations\n",
    "#O_mat is the matrix of observations"
   ]
  },
  {
   "cell_type": "code",
   "execution_count": 1469,
   "metadata": {},
   "outputs": [],
   "source": [
    "def forward_online(O, A_guess, B_guess, pi):\n",
    "    \n",
    "    T = O.shape[0]\n",
    "    \n",
    "    N, Nobservations = B_guess.shape\n",
    "    \n",
    "    b=np.zeros((N,Nobservations))\n",
    "    \n",
    "    alpha = np.zeros((N, T-1))# p(z_t|y_{1:T})\n",
    "    \n",
    "    gamma = np.zeros((N, T-1))# p(z_t|y_{1:T})\n",
    "    \n",
    "    delta = np.empty((N,N,T-1))\n",
    "    \n",
    "    xi=np.empty((N,N))    \n",
    "    \n",
    "    a=np.zeros(N)\n",
    "    \n",
    "    b=np.zeros((N,Nobservations))\n",
    "    \n",
    "    theta=10**-3\n",
    "    \n",
    "    Xi=np.zeros((N,N))\n",
    "    \n",
    "    #stuff I'm testing for debugging  \n",
    "    \n",
    "    err=np.zeros(T)\n",
    "    err2=np.zeros(T)    \n",
    "    S=np.zeros(T)\n",
    "    store=np.zeros(T)\n",
    "    count=np.zeros(N)    \n",
    "    \n",
    "    \n",
    "    A_true = np.array([[.9, .1, ], [.2, .8]])\n",
    "    B_true = np.array([[.9, .05, .05], [.1, .2, .7]])    \n",
    "    #  A_guess = np.array([[.9, .1, ], [.2, .8]]) #uncomment this and comment out updating A to keep A fixed \n",
    "    #  B_guess = np.array([[.9, .05, .05], [.1, .2, .7]]) #uncomment this and comment out updating B to keep B fixed \n",
    "   \n",
    "     #end of debugging stuff\n",
    "    \n",
    "    #initialize alpha \n",
    "    \n",
    "    alpha[:,0]=pi*B_guess[:,int(O[0])]\n",
    "        \n",
    "    alpha[:,0]=alpha[:,0]/sum(alpha[s,0] for s in range(N))\n",
    "    \n",
    "\n",
    "    #T=19 #when I want to measure up to a certain timepoint T\n",
    "    \n",
    "    for t in range(1,T-1):    \n",
    "        asum = 0.0    \n",
    "        xisum= 0.0\n",
    "\n",
    "        #Forward Step\n",
    "        for s in range(N):\n",
    "\n",
    "            alpha[s,t]=sum([alpha[j,t-1]*A_guess[j,s]*B_guess[s,int(O[t])] for j in range(N)])\n",
    "\n",
    "            asum += alpha[s,t] \n",
    "\n",
    "        for s in range(N):       \n",
    "\n",
    "            alpha[s,t] =alpha[s,t]/asum\n",
    "\n",
    "        a = theta*alpha[:,t]+(1-theta)*a\n",
    "\n",
    "        #E-step\n",
    "\n",
    "        for s in range(N):\n",
    "\n",
    "            for j in range(N):\n",
    "\n",
    "                xi[s,j]=B_guess[j,int(O[t])]*A_guess[s,j]*alpha[s,t-1]\n",
    "\n",
    "                xisum += xi[s,j]\n",
    "\n",
    "        xi=xi/xisum\n",
    "\n",
    "        Xi = theta*xi+(1-theta)*Xi\n",
    "        \n",
    "        \n",
    "        #M-step\n",
    "        \n",
    "        #updating B\n",
    "        for v in range(Nobservations):\n",
    "\n",
    "            for j in range(N):\n",
    "\n",
    "                if v==O[t]:\n",
    "\n",
    "                    b[j,v] = theta*alpha[j,t]+(1-theta)*(b[j,v])         \n",
    "\n",
    "                    B_guess[j,v]=b[j,v]/a[j]\n",
    "                    \n",
    "                else:\n",
    "                    \n",
    "                    b[j,v]=(1-theta)*(b[j,v])\n",
    "                    \n",
    "## alternative way to find B possibly???                    \n",
    "#         for v in range(Nobservations):\n",
    "\n",
    "#             if v==O[t]:\n",
    "\n",
    "#                 jj= np.argmax(alpha[:,t])   \n",
    "                    \n",
    "#                 b[jj,v] += 1\n",
    "                \n",
    "#                 count[jj] += 1\n",
    "                \n",
    "#                 B_guess[jj,v]=b[jj,v]/count[jj]\n",
    "\n",
    "\n",
    "        #updating A\n",
    "    \n",
    "    #This part updates A by telling it to stop updating if it converged by a certain threshold\n",
    "        S[t]=np.linalg.norm(A_guess-Xi/a)\n",
    "        store[t]=S[t]-S[t-1]\n",
    "        if abs(store[t])<.0008 :\n",
    "            S[t]=S[t]\n",
    "        else:\n",
    "            for s in range(N):\n",
    "                A_guess[:,s]= Xi[s,:]/a\n",
    "                \n",
    "      ##uncomment the following and comment out the above for regular updating          \n",
    "#         for s in range(N):\n",
    "#             A_guess[:,s]= Xi[s,:]/a\n",
    "\n",
    "#debugging calculating error\n",
    "        err[t]=np.linalg.norm(A_true-A_guess)\n",
    "        err2[t]=np.linalg.norm(B_true-B_guess)\n",
    "#spitting out final A and B\n",
    "    A= A_guess\n",
    "    B= B_guess\n",
    "# extras outputs are for debugging    \n",
    "    return A, B, xi, alpha, b, a, err, err2, S, store, "
   ]
  },
  {
   "cell_type": "code",
   "execution_count": 1473,
   "metadata": {},
   "outputs": [
    {
     "name": "stdout",
     "output_type": "stream",
     "text": [
      "[[0.88926581 0.11073419]\n",
      " [0.20831247 0.79168753]]\n",
      "[[0.90060034 0.05134235 0.04874654]\n",
      " [0.11988144 0.19471613 0.68747781]]\n"
     ]
    },
    {
     "data": {
      "text/plain": [
       "[<matplotlib.lines.Line2D at 0x1a62a9df780>]"
      ]
     },
     "execution_count": 1473,
     "metadata": {},
     "output_type": "execute_result"
    },
    {
     "data": {
      "image/png": "[encoded data removed]",
      "text/plain": [
       "<Figure size 432x288 with 1 Axes>"
      ]
     },
     "metadata": {
      "needs_background": "light"
     },
     "output_type": "display_data"
    }
   ],
   "source": [
    "A = np.array([[.65, .35 ], [.1, .9]])  #incorrect guesses\n",
    "B = np.array([[.7, .2, .1], [.1, .3, .6]]) #incorrect guesses\n",
    "#A = np.array([[.9, .1, ], [.2, .8]]) #correct A\n",
    "#B = np.array([[.9, .05, .05], [.1, .2, .7]]) #correct B guess\n",
    "A_guess, B_guess, xi, alpha, b, a, errA, errB,dif,dif2 =forward_online(O, A, B, pi)\n",
    "\n",
    "print(A_guess)\n",
    "print(B_guess)\n",
    "plt.plot(err)\n",
    "plt.plot(err2)"
   ]
  },
  {
   "cell_type": "code",
   "execution_count": 1428,
   "metadata": {},
   "outputs": [
    {
     "name": "stdout",
     "output_type": "stream",
     "text": [
      "[[11983.   704.   695.]\n",
      " [  675.  1324.  4619.]]\n",
      "[[0.89545658 0.05260798 0.05193544]\n",
      " [0.10199456 0.20006044 0.697945  ]]\n"
     ]
    }
   ],
   "source": [
    "true_count=np.zeros((2,3))\n",
    "for s in range(2):\n",
    "    for v in range(3):\n",
    "        true_count[s,v]=sum(O[Q==s]==v)\n",
    "print(true_count) # number of times an observation was correctly observed at a given state\n",
    "\n",
    "print(((true_count).T/np.sum(true_count,1)).T) #nuumber of times an o"
   ]
  },
  {
   "cell_type": "code",
   "execution_count": 1474,
   "metadata": {},
   "outputs": [
    {
     "data": {
      "text/plain": [
       "0.05418241064981846"
      ]
     },
     "execution_count": 1474,
     "metadata": {},
     "output_type": "execute_result"
    }
   ],
   "source": [
    "errB[9998]"
   ]
  },
  {
   "cell_type": "code",
   "execution_count": 1475,
   "metadata": {},
   "outputs": [
    {
     "data": {
      "text/plain": [
       "0.03402030181388804"
      ]
     },
     "execution_count": 1475,
     "metadata": {},
     "output_type": "execute_result"
    }
   ],
   "source": [
    "errA[9998]"
   ]
  },
  {
   "cell_type": "code",
   "execution_count": 1158,
   "metadata": {},
   "outputs": [],
   "source": [
    "np.savetxt('Q',Q)\n",
    "np.savetxt('O',O)"
   ]
  },
  {
   "cell_type": "code",
   "execution_count": 1161,
   "metadata": {},
   "outputs": [],
   "source": [
    "O=np.loadtxt('O')\n",
    "Q=np.loadtxt('Q')"
   ]
  }
 ],
 "metadata": {
  "kernelspec": {
   "display_name": "Python 3",
   "language": "python",
   "name": "python3"
  },
  "language_info": {
   "codemirror_mode": {
    "name": "ipython",
    "version": 3
   },
   "file_extension": ".py",
   "mimetype": "text/x-python",
   "name": "python",
   "nbconvert_exporter": "python",
   "pygments_lexer": "ipython3",
   "version": "3.7.1"
  }
 },
 "nbformat": 4,
 "nbformat_minor": 4
}
