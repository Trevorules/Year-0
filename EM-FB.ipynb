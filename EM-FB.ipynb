{
 "cells": [
  {
   "cell_type": "code",
   "execution_count": 1,
   "metadata": {},
   "outputs": [],
   "source": [
    "import random\n",
    "import numpy as np\n",
    "import matplotlib.pyplot as plt"
   ]
  },
  {
   "cell_type": "code",
   "execution_count": 13,
   "metadata": {
    "scrolled": true
   },
   "outputs": [
    {
     "data": {
      "text/plain": [
       "<matplotlib.image.AxesImage at 0x1cb826c82b0>"
      ]
     },
     "execution_count": 13,
     "metadata": {},
     "output_type": "execute_result"
    },
    {
     "data": {
      "image/png": "[encoded data removed]",
      "text/plain": [
       "<Figure size 1152x144 with 1 Axes>"
      ]
     },
     "metadata": {
      "needs_background": "light"
     },
     "output_type": "display_data"
    },
    {
     "data": {
      "image/png": "[encoded data removed]",
      "text/plain": [
       "<Figure size 1152x144 with 1 Axes>"
      ]
     },
     "metadata": {
      "needs_background": "light"
     },
     "output_type": "display_data"
    }
   ],
   "source": [
    "pi=np.array([.8,.2])\n",
    "A = np.array([[.6, .4, ], [.5, .5]])\n",
    "Ntimes=50\n",
    "Nstates=2\n",
    "\n",
    "def generating_states(pi,A,Ntimes):\n",
    "    \n",
    "    Q=np.ones(Ntimes)*-1\n",
    "\n",
    "    Nstates=np.size(A[:,0])\n",
    "    \n",
    "    states = np.zeros((Nstates, Ntimes))\n",
    "    \n",
    "    Q[0]=np.random.choice(Nstates,1,p=pi)[0]\n",
    "    \n",
    "    states[int(Q[0]),0]=1\n",
    "    \n",
    "    for t in range(1, Ntimes):\n",
    "        \n",
    "        Q[t]=np.random.choice(Nstates,1,p=A[int(Q[t-1])])[0]\n",
    "        \n",
    "        idx=Q[t]\n",
    "        \n",
    "        states[int(idx),t]=1\n",
    "        \n",
    "    return Q, states\n",
    "\n",
    "\n",
    "Q, states=generating_states(pi,A,Ntimes)\n",
    "\n",
    "plt.matshow(states)\n",
    "\n",
    "B = np.array([[.2, .4, .4], [.5, .4, .1]])\n",
    "\n",
    "def generating_observations(Q,B):\n",
    "\n",
    "    Ntimes=np.size(Q)\n",
    "    \n",
    "    O=np.ones(Ntimes)*-1\n",
    "    \n",
    "    Nstates=np.size(B[:,0])\n",
    "    \n",
    "    Nobservations= np.size(B[0,:])\n",
    "    \n",
    "    O_mat=np.zeros((Nobservations,Ntimes))\n",
    "    \n",
    "    for t in range(Ntimes):\n",
    "        \n",
    "        O[t]=np.random.choice(Nobservations,1,p=B[int(Q[t-1])])[0]\n",
    "        \n",
    "        O_mat[int(O[t]),t]=1\n",
    "        \n",
    "    return O, O_mat\n",
    "O, O_mat = generating_observations(Q,B)    \n",
    "plt.matshow(O_mat)    \n",
    "\n",
    "#Generate observations from the state\n",
    "#do forward to due to the probabliities\n"
   ]
  },
  {
   "cell_type": "code",
   "execution_count": 30,
   "metadata": {},
   "outputs": [],
   "source": [
    "def forward(O, A, B, pi):\n",
    "    \n",
    "    T = O.shape[0]\n",
    "    \n",
    "    N = A.shape[0]\n",
    "    \n",
    "    alpha = np.empty((N, T))# p(z_t|y_{1:T})\n",
    "    alpha2 = np.empty((N, T))# p(z_t|y_{1:T})\n",
    "    \n",
    "    alpha[:,0]=pi*B[:,int(O[0])]\n",
    "        \n",
    "    alpha[:,0]=alpha[:,0]/sum(alpha[s,0] for s in range(N))\n",
    "      \n",
    "    for t in range(1,T):\n",
    "        \n",
    "        asum = sum([sum([alpha[j,t-1]*A[j,s]*B[s,int(O[t])]  for j in range(N)]) for s in range(N)])\n",
    "        \n",
    "        for s in range(N):\n",
    "            \n",
    "            alpha2[s,t]=sum([alpha[j,t-1]*A[j,s]*B[s,int(O[t])] for j in range(N)])\n",
    "        \n",
    "        alpha[:,t]=alpha2[:,t]   \n",
    "        \n",
    "        for s in range(N):\n",
    "            \n",
    "            alpha[s,t] =alpha[s,t]/asum\n",
    "        \n",
    "    forwardprob = np.sum(alpha,0)\n",
    "        \n",
    "    logZ = np.log(forwardprob)\n",
    "    \n",
    "    return forwardprob, alpha, logZ\n",
    "\n",
    "def backward(O,A,B):\n",
    "    T = O.shape[0]\n",
    "    \n",
    "    N = A.shape[0]\n",
    "    \n",
    "    beta = np.empty((N, T))# p(z_t|y_{1:T})\n",
    "    beta2 = np.empty((N, T))# p(z_t|y_{1:T})\n",
    "    beta[:,-1] = 1\n",
    "            \n",
    "    beta[:,-1] = beta[:,-1]/sum(beta[s,-1] for s in range(N))\n",
    "       \n",
    "    for t in reversed(range(0,T-1)):\n",
    "        \n",
    "        bsum=sum([sum([beta[j,t]*A[j,s]*B[s,int(O[t])] for j in range(N)]) for s in range(N)])\n",
    "        \n",
    "        for s in range(N):\n",
    "            \n",
    "            beta2[s,t-1]=sum([beta[j,t]*A[j,s]*B[s,int(O[t])] for j in range(N)])\n",
    "            \n",
    "        beta[:,t-1]=beta2[:,t-1] \n",
    "        \n",
    "        for s in range(N):\n",
    "            \n",
    "            beta[s,t-1]=beta[s,t-1]/bsum\n",
    "            \n",
    "    backwardprob = np.sum(beta,0)\n",
    "    \n",
    "    return backwardprob, beta\n",
    "\n",
    "def gamma_solver(alpha, beta):\n",
    "    \n",
    "    N, T= alpha.shape\n",
    "    \n",
    "    gamma = np.empty((N,T))\n",
    "    \n",
    "    for t in range(T):\n",
    "        gamsum=0.0\n",
    "        for s in range(N):\n",
    "            \n",
    "            gamma[s,t] = (alpha[s,t] * beta[s,t])\n",
    "            \n",
    "            gamsum +=gamma[s,t]\n",
    "        \n",
    "        for s in range(N):\n",
    "            \n",
    "            gamma[s,t] =gamma[s,t]/gamsum\n",
    "     \n",
    "    return gamma\n",
    "\n",
    "#   #for t in range(T):\n",
    "#         #gamsum = 0.0\n",
    "#         #for m in range(M):\n",
    "#             gamma[t, m] = alpha[t, m] * beta[t, m]\n",
    "#             gamsum += gamma[t, m]\n",
    "\n",
    "#         for m in range(M):\n",
    "#             gamma[t, m] /= gamsum\n",
    "\n",
    "def delta_solver(alpha,beta,A,B):\n",
    "\n",
    "    N, T = alpha.shape\n",
    "    \n",
    "    delta = np.empty((N,N,T))\n",
    "    \n",
    "    for t in range(T-1):\n",
    "        \n",
    "        for s in range(N):\n",
    "            \n",
    "            for j in range(N):\n",
    "                \n",
    "                delta[s,j,t]= alpha[s,t]*A_guess[s,j]*B_guess[j,int(O[t+1])-1]*beta[j,t+1]/alpha[-1,-1]\n",
    "                \n",
    "    deltaprob = np.sum(delta,0)\n",
    "    \n",
    "    delta=delta/deltaprob\n",
    "    \n",
    "    return delta\n",
    "\n",
    "def EM(A_guess,B_guess,O,iterate,pi):\n",
    "\n",
    "    for step in range(iterate):  \n",
    "\n",
    "        N, Nobservations = B_guess.shape\n",
    "\n",
    "        T = O.shape[0]\n",
    "\n",
    "        forwardprob, alpha, logZ = forward(O,A_guess,B_guess, pi)\n",
    "\n",
    "        backwardprob, beta = backward(O,A_guess,B_guess)\n",
    "        \n",
    "\n",
    "        gamma=gamma_solver(alpha,beta)\n",
    "\n",
    "        delta=delta_solver(alpha,beta,A_guess,B_guess)\n",
    "        \n",
    "        for v in range(Nobservations):\n",
    "            \n",
    "            for j in range(N):\n",
    "                \n",
    "                B_guess[j,v]=sum([gamma[j,t] for t in range(T) if v==O[t]])/sum([gamma[j,t] for t in range(T)])\n",
    "                \n",
    "        for s in range(N):\n",
    "            \n",
    "            for j in range(N):\n",
    "                \n",
    "                 A_guess[s,j]= sum(delta[s,j,t] for t in range(T-1))/sum(np.sum(delta[s,:,t],0) for t in range(T-1))\n",
    "    \n",
    "    A=A_guess\n",
    "    B=B_guess\n",
    "    return A, B, alpha, beta, gamma, forwardprob"
   ]
  },
  {
   "cell_type": "code",
   "execution_count": 31,
   "metadata": {},
   "outputs": [
    {
     "data": {
      "text/plain": [
       "Text(0.5, 1.05, 'Trevors gamma')"
      ]
     },
     "execution_count": 31,
     "metadata": {},
     "output_type": "execute_result"
    },
    {
     "data": {
      "image/png": "[encoded data removed]",
      "text/plain": [
       "<Figure size 1152x144 with 1 Axes>"
      ]
     },
     "metadata": {
      "needs_background": "light"
     },
     "output_type": "display_data"
    },
    {
     "data": {
      "image/png": "[encoded data removed]",
      "text/plain": [
       "<Figure size 1152x144 with 1 Axes>"
      ]
     },
     "metadata": {
      "needs_background": "light"
     },
     "output_type": "display_data"
    },
    {
     "data": {
      "image/png": "[encoded data removed]",
      "text/plain": [
       "<Figure size 1152x144 with 1 Axes>"
      ]
     },
     "metadata": {
      "needs_background": "light"
     },
     "output_type": "display_data"
    },
    {
     "data": {
      "image/png": "[encoded data removed]",
      "text/plain": [
       "<Figure size 1152x144 with 1 Axes>"
      ]
     },
     "metadata": {
      "needs_background": "light"
     },
     "output_type": "display_data"
    }
   ],
   "source": [
    "A = np.array([[.6, .4, ], [.5, .5]])\n",
    "B = np.array([[.2, .4, .4], [.5, .4, .1]])\n",
    "pi=[.8,.2]\n",
    "\n",
    "\n",
    "A_New, B_New, alpha4, beta4, gamma, forwardprob =EM(A,B,O,1,pi)\n",
    "\n",
    "plt.matshow(states)\n",
    "plt.title('states')\n",
    "plt.matshow(alpha4, vmin=0,vmax=1)\n",
    "plt.title('Trevor''s alpha')\n",
    "plt.matshow(beta4, vmin=0, vmax=1)\n",
    "plt.title('Trevor''s beta')\n",
    "plt.matshow(gamma, vmin=0, vmax=1)\n",
    "plt.title('Trevor''s gamma')"
   ]
  },
  {
   "cell_type": "code",
   "execution_count": 33,
   "metadata": {},
   "outputs": [],
   "source": [
    "from __future__ import division\n",
    "import numpy as np\n",
    "from numba import jit\n",
    "\n",
    "def fb_infer(A, pi, psi):\n",
    "    \"\"\"\n",
    "    Implement the forward-backward inference algorithm.\n",
    "    A is a matrix of transition probabilities that acts to the right:\n",
    "    new_state = A * old_state, so that columns of A sum to 1\n",
    "    psi is the vector of evidence: p(y_t|z_t); it does not need to be\n",
    "    normalized, but the lack of normalization will be reflected in logZ\n",
    "    such that the end result using the given psi will be properly normalized\n",
    "    when using the returned value of Z\n",
    "    \"\"\"\n",
    "    if np.any(A > 1):\n",
    "        raise ValueError('Transition matrix probabilities > 1')\n",
    "    if np.any(pi > 1):\n",
    "        raise ValueError('Initial state probabilities > 1')\n",
    "\n",
    "    T = psi.shape[0]\n",
    "    M = A.shape[0]\n",
    "\n",
    "    # initialize empty variables\n",
    "    alpha = np.empty((T, M))  # p(z_t|y_{1:T})\n",
    "    beta = np.empty((T, M))  # p(y_{t+1:T}|z_t) (unnormalized)\n",
    "    gamma = np.empty((T, M))  # p(z_t|y_{1:T}) (posterior)\n",
    "    logZ = np.empty(T)  # log partition function\n",
    "    Xi = np.empty((T - 1, M, M))\n",
    "\n",
    "    # initialize\n",
    "    a = psi[0] * pi\n",
    "    alpha[0] = a / np.sum(a)\n",
    "    logZ[0] = np.log(np.sum(a))\n",
    "    beta[-1, :] = 1\n",
    "    beta[-1, :] = beta[-1, :] / np.sum(beta[-1, :])\n",
    "\n",
    "    forward(psi, A, alpha, logZ, a)\n",
    "\n",
    "    backward(psi, A, beta, a)\n",
    "\n",
    "    # posterior\n",
    "    calc_post(alpha, beta, gamma)\n",
    "\n",
    "    # calculate 2-slice marginal\n",
    "    two_slice(alpha, beta, psi, A, Xi)\n",
    "\n",
    "    if np.any(np.isnan(gamma)):\n",
    "        raise ValueError('NaNs appear in posterior')\n",
    "\n",
    "    return gamma, np.sum(logZ), Xi\n",
    "\n",
    "#@jit(nopython=True)\n",
    "def forward(psi, A, alpha, logZ, a):\n",
    "    T = psi.shape[0]\n",
    "    M = A.shape[0]\n",
    "\n",
    "    for t in range(1, T):\n",
    "        asum = 0.0\n",
    "        for i in range(M):\n",
    "            a[i] = 0.0\n",
    "            for j in range(M):\n",
    "                a[i] += psi[t, i] * A[i, j] * alpha[t - 1, j]\n",
    "            asum += a[i]\n",
    "\n",
    "        for i in range(M):\n",
    "            alpha[t, i] = a[i] / asum\n",
    "\n",
    "        logZ[t] = np.log(asum)\n",
    "    plt.matshow(alpha.T, vmin=0, vmax=1)\n",
    "    plt.title('John''s alpha')\n",
    "#@jit(nopython=True)\n",
    "def backward(psi, A, beta, a):\n",
    "    T = psi.shape[0]\n",
    "    M = A.shape[0]\n",
    "\n",
    "    for t in range(T - 1, 0, -1):\n",
    "        asum = 0.0\n",
    "        for i in range(M):\n",
    "            a[i] = 0.0\n",
    "            for j in range(M):\n",
    "                a[i] += beta[t, j] * psi[t, j] * A[j, i]\n",
    "            asum += a[i]\n",
    "\n",
    "        for i in range(M):\n",
    "            beta[t - 1, i] = a[i] / asum\n",
    "    plt.matshow(beta.T, vmin=0, vmax=1)\n",
    "    plt.title('John''s beta')\n",
    "@jit(nopython=True)\n",
    "def calc_post(alpha, beta, gamma):\n",
    "    T, M = alpha.shape\n",
    "\n",
    "    for t in range(T):\n",
    "        gamsum = 0.0\n",
    "        for m in range(M):\n",
    "            gamma[t, m] = alpha[t, m] * beta[t, m]\n",
    "            gamsum += gamma[t, m]\n",
    "\n",
    "        for m in range(M):\n",
    "            gamma[t, m] /= gamsum\n",
    "\n",
    "@jit(nopython=True)\n",
    "def two_slice(alpha, beta, psi, A, Xi):\n",
    "    T, M = alpha.shape\n",
    "\n",
    "    for t in range(T - 1):\n",
    "        xsum = 0.0\n",
    "        for i in range(M):\n",
    "            for j in range(M):\n",
    "                Xi[t, i, j] = beta[t + 1, i] * psi[t + 1, i]\n",
    "                Xi[t, i, j] *= alpha[t, j] * A[i, j]\n",
    "                xsum += Xi[t, i, j]\n",
    "\n",
    "        # normalize\n",
    "        for i in range(M):\n",
    "            for j in range(M):\n",
    "                Xi[t, i, j] /= xsum"
   ]
  },
  {
   "cell_type": "code",
   "execution_count": 35,
   "metadata": {},
   "outputs": [
    {
     "data": {
      "text/plain": [
       "Text(0.5, 1.05, 'Trevors gamma')"
      ]
     },
     "execution_count": 35,
     "metadata": {},
     "output_type": "execute_result"
    },
    {
     "data": {
      "image/png": "[encoded data removed]",
      "text/plain": [
       "<Figure size 1152x144 with 1 Axes>"
      ]
     },
     "metadata": {
      "needs_background": "light"
     },
     "output_type": "display_data"
    },
    {
     "data": {
      "image/png": "[encoded data removed]",
      "text/plain": [
       "<Figure size 1152x144 with 1 Axes>"
      ]
     },
     "metadata": {
      "needs_background": "light"
     },
     "output_type": "display_data"
    },
    {
     "data": {
      "image/png": "[encoded data removed]",
      "text/plain": [
       "<Figure size 1152x144 with 1 Axes>"
      ]
     },
     "metadata": {
      "needs_background": "light"
     },
     "output_type": "display_data"
    },
    {
     "data": {
      "image/png": "[encoded data removed]",
      "text/plain": [
       "<Figure size 1152x144 with 1 Axes>"
      ]
     },
     "metadata": {
      "needs_background": "light"
     },
     "output_type": "display_data"
    },
    {
     "data": {
      "image/png": "[encoded data removed]",
      "text/plain": [
       "<Figure size 1152x144 with 1 Axes>"
      ]
     },
     "metadata": {
      "needs_background": "light"
     },
     "output_type": "display_data"
    },
    {
     "data": {
      "image/png": "[encoded data removed]",
      "text/plain": [
       "<Figure size 1152x144 with 1 Axes>"
      ]
     },
     "metadata": {
      "needs_background": "light"
     },
     "output_type": "display_data"
    }
   ],
   "source": [
    "A = np.array([[.6, .4, ], [.5, .5]])\n",
    "B = np.array([[.2, .4, .4], [.5, .4, .1]])\n",
    "pi=[.8,.2]\n",
    "J_gamma, uh2, uh3= fb_infer(np.array(A).T,np.array(pi),np.array(B[:,O.astype(int)]).T)\n",
    "plt.matshow(alpha4,vmin=0, vmax=1)\n",
    "plt.title('Trevor''s alpha')\n",
    "plt.matshow(beta4, vmin=0, vmax=1)\n",
    "plt.title('Trevor''s beta')\n",
    "plt.matshow(J_gamma.T, vmin=0, vmax=1)\n",
    "plt.title('John''s gamma')\n",
    "plt.matshow(gamma, vmin=0, vmax=1)\n",
    "plt.title('Trevor''s gamma')\n",
    "\n"
   ]
  },
  {
   "cell_type": "markdown",
   "metadata": {},
   "source": [
    "When I added v_min=0 and v_max=1 to your beta on the plot the distinction became more clear as to why alpha seems to dominate the gamma in your fb_infer. But I couldn't figure out why or how yours was different"
   ]
  },
  {
   "cell_type": "code",
   "execution_count": null,
   "metadata": {},
   "outputs": [],
   "source": []
  }
 ],
 "metadata": {
  "kernelspec": {
   "display_name": "Python 3",
   "language": "python",
   "name": "python3"
  },
  "language_info": {
   "codemirror_mode": {
    "name": "ipython",
    "version": 3
   },
   "file_extension": ".py",
   "mimetype": "text/x-python",
   "name": "python",
   "nbconvert_exporter": "python",
   "pygments_lexer": "ipython3",
   "version": "3.7.1"
  }
 },
 "nbformat": 4,
 "nbformat_minor": 2
}
