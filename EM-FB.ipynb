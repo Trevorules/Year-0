{
 "cells": [
  {
   "cell_type": "code",
   "execution_count": 1,
   "metadata": {},
   "outputs": [],
   "source": [
    "import random\n",
    "import numpy as np\n",
    "import matplotlib.pyplot as plt\n",
    "import forward_backward as fb\n",
    "np.random.seed(12345)"
   ]
  },
  {
   "cell_type": "code",
   "execution_count": 2,
   "metadata": {
    "scrolled": true
   },
   "outputs": [],
   "source": [
    "def generating_states(pi,A,Ntimes):\n",
    "    \n",
    "    Q = np.empty(Ntimes).astype('int')\n",
    "\n",
    "    Nstates=np.shape(A)[0]\n",
    "    \n",
    "    states = np.zeros((Nstates, Ntimes))\n",
    "    \n",
    "    Q[0]=np.random.choice(Nstates,1,p=pi)[0]\n",
    "    \n",
    "    states[int(Q[0]),0]=1\n",
    "    \n",
    "    for t in range(1, Ntimes):\n",
    "        \n",
    "        Q[t]=np.random.choice(Nstates,1,p=A[Q[t-1]])[0]\n",
    "        \n",
    "        states[Q[t],t]=1\n",
    "        \n",
    "    return Q, states"
   ]
  },
  {
   "cell_type": "code",
   "execution_count": 3,
   "metadata": {
    "scrolled": true
   },
   "outputs": [],
   "source": [
    "pi=np.array([.8,.2])\n",
    "A = np.array([[.6, .4, ], [.5, .5]])\n",
    "Ntimes=50\n",
    "Nstates=2"
   ]
  },
  {
   "cell_type": "code",
   "execution_count": 4,
   "metadata": {
    "scrolled": true
   },
   "outputs": [
    {
     "data": {
      "text/plain": [
       "<matplotlib.image.AxesImage at 0x7fc1e23d54c0>"
      ]
     },
     "execution_count": 4,
     "metadata": {},
     "output_type": "execute_result"
    },
    {
     "data": {
      "image/png": "[encoded data removed]",
      "text/plain": [
       "<Figure size 1152x144 with 1 Axes>"
      ]
     },
     "metadata": {
      "needs_background": "light"
     },
     "output_type": "display_data"
    }
   ],
   "source": [
    "Q, states=generating_states(pi,A,Ntimes)\n",
    "\n",
    "plt.matshow(states)"
   ]
  },
  {
   "cell_type": "code",
   "execution_count": 5,
   "metadata": {
    "scrolled": true
   },
   "outputs": [],
   "source": [
    "def generating_observations(Q,B):\n",
    "\n",
    "    Ntimes=np.size(Q)\n",
    "    \n",
    "    O = np.empty(Ntimes).astype('int')\n",
    "    \n",
    "    Nstates=np.size(B[:,0])\n",
    "    \n",
    "    Nobservations= np.size(B[0,:])\n",
    "    \n",
    "    O_mat=np.zeros((Nobservations,Ntimes))\n",
    "    \n",
    "    for t in range(Ntimes):\n",
    "        \n",
    "        O[t]=np.random.choice(Nobservations,1,p=B[Q[t-1]])[0]\n",
    "        \n",
    "        O_mat[O[t],t]=1\n",
    "        \n",
    "    return O, O_mat"
   ]
  },
  {
   "cell_type": "code",
   "execution_count": 6,
   "metadata": {
    "scrolled": true
   },
   "outputs": [
    {
     "data": {
      "text/plain": [
       "<matplotlib.image.AxesImage at 0x7fc1e25d70a0>"
      ]
     },
     "execution_count": 6,
     "metadata": {},
     "output_type": "execute_result"
    },
    {
     "data": {
      "image/png": "[encoded data removed]",
      "text/plain": [
       "<Figure size 1152x144 with 1 Axes>"
      ]
     },
     "metadata": {
      "needs_background": "light"
     },
     "output_type": "display_data"
    }
   ],
   "source": [
    "B = np.array([[.2, .4, .4], [.5, .4, .1]])\n",
    "\n",
    "O, O_mat = generating_observations(Q,B)    \n",
    "plt.matshow(O_mat)    \n",
    "\n",
    "#Generate observations from the state\n",
    "#do forward to due to the probabliities"
   ]
  },
  {
   "cell_type": "markdown",
   "metadata": {},
   "source": [
    "# Run forward-backward to recover states (assuming $A$, $\\pi$, $B$ known)"
   ]
  },
  {
   "cell_type": "markdown",
   "metadata": {},
   "source": [
    "First, let's check against John's code:"
   ]
  },
  {
   "cell_type": "code",
   "execution_count": 7,
   "metadata": {},
   "outputs": [
    {
     "data": {
      "text/plain": [
       "<matplotlib.image.AxesImage at 0x7fc1e2f3f5b0>"
      ]
     },
     "execution_count": 7,
     "metadata": {},
     "output_type": "execute_result"
    },
    {
     "data": {
      "image/png": "[encoded data removed]",
      "text/plain": [
       "<Figure size 1152x144 with 1 Axes>"
      ]
     },
     "metadata": {
      "needs_background": "light"
     },
     "output_type": "display_data"
    }
   ],
   "source": [
    "# make an array that's p(obs_t | z_t) for each possible z at each time (Ntimes x Nstates)\n",
    "psi = np.array([B[:, o] for o in O])\n",
    "\n",
    "post, logZ, Xi = fb.fb_infer(A.T, pi, psi)\n",
    "\n",
    "plt.matshow(post.T)"
   ]
  },
  {
   "cell_type": "code",
   "execution_count": 8,
   "metadata": {},
   "outputs": [],
   "source": [
    "# get intermediate quantitites from John's implementation\n",
    "\n",
    "def john_setup(psi, A, pi):\n",
    "    \"\"\"\n",
    "    Note: Uses John's conventions for A (i.e., columns sum to 1)\n",
    "    \"\"\"\n",
    "\n",
    "    jv = dict()\n",
    "    T = psi.shape[0]\n",
    "    M = A.shape[0]\n",
    "    jv['T'] = T\n",
    "    jv['M'] = M\n",
    "\n",
    "    # initialize empty variables\n",
    "    jv['alpha'] = np.empty((jv['T'], M))  # p(z_t|y_{1:T})\n",
    "    jv['beta'] = np.empty((T, M))  # p(y_{t+1:T}|z_t) (unnormalized)\n",
    "    jv['gamma'] = np.empty((T, M))  # p(z_t|y_{1:T}) (posterior)\n",
    "    jv['logZ'] = np.empty(T)  # log partition function\n",
    "    jv['Xi'] = np.empty((T - 1, M, M))\n",
    "\n",
    "    # initialize\n",
    "    a = psi[0] * pi\n",
    "    jv['a'] = a\n",
    "    jv['alpha'][0] = a / np.sum(a)\n",
    "    jv['logZ'][0] = np.log(np.sum(a))\n",
    "    jv['beta'][-1, :] = 1\n",
    "    jv['beta'][-1, :] = jv['beta'][-1, :] / np.sum(jv['beta'][-1, :])\n",
    "    \n",
    "    return jv\n",
    "\n",
    "jv = john_setup(psi, A, pi)\n",
    "\n",
    "fb.forward(psi, A.T, jv['alpha'], jv['logZ'], jv['a'])\n",
    "fb.backward(psi, A.T, jv['beta'], jv['a'])\n",
    "fb.calc_post(jv['alpha'], jv['beta'], jv['gamma'])"
   ]
  },
  {
   "cell_type": "code",
   "execution_count": 9,
   "metadata": {},
   "outputs": [
    {
     "data": {
      "text/plain": [
       "<matplotlib.image.AxesImage at 0x7fc1e33f5b80>"
      ]
     },
     "execution_count": 9,
     "metadata": {},
     "output_type": "execute_result"
    },
    {
     "data": {
      "image/png": "[encoded data removed]",
      "text/plain": [
       "<Figure size 1152x144 with 1 Axes>"
      ]
     },
     "metadata": {
      "needs_background": "light"
     },
     "output_type": "display_data"
    },
    {
     "data": {
      "image/png": "[encoded data removed]",
      "text/plain": [
       "<Figure size 1152x144 with 1 Axes>"
      ]
     },
     "metadata": {
      "needs_background": "light"
     },
     "output_type": "display_data"
    },
    {
     "data": {
      "image/png": "[encoded data removed]",
      "text/plain": [
       "<Figure size 1152x144 with 1 Axes>"
      ]
     },
     "metadata": {
      "needs_background": "light"
     },
     "output_type": "display_data"
    },
    {
     "data": {
      "image/png": "[encoded data removed]",
      "text/plain": [
       "<Figure size 1152x144 with 1 Axes>"
      ]
     },
     "metadata": {
      "needs_background": "light"
     },
     "output_type": "display_data"
    }
   ],
   "source": [
    "plt.matshow(jv['alpha'].T)\n",
    "plt.matshow(jv['beta'].T)\n",
    "plt.matshow(jv['gamma'].T)\n",
    "plt.matshow(post.T)"
   ]
  },
  {
   "cell_type": "code",
   "execution_count": 10,
   "metadata": {},
   "outputs": [],
   "source": [
    "def forward(O, A, B, pi):\n",
    "    \n",
    "    T = O.shape[0]\n",
    "    \n",
    "    N = A.shape[0]\n",
    "    \n",
    "    alpha = np.empty((N, T))# p(z_t|y_{1:T})\n",
    "    alpha2 = np.empty((N, T))# p(z_t|y_{1:T})\n",
    "    \n",
    "    alpha[:,0]=pi*B[:,int(O[0])]\n",
    "        \n",
    "    alpha[:,0]=alpha[:,0]/sum(alpha[s,0] for s in range(N))\n",
    "      \n",
    "    for t in range(1,T):\n",
    "        \n",
    "        asum = sum([sum([alpha[j,t-1]*A[j,s]*B[s,int(O[t])]  for j in range(N)]) for s in range(N)])\n",
    "        \n",
    "        for s in range(N):\n",
    "            \n",
    "            alpha2[s,t]=sum([alpha[j,t-1]*A[j,s]*B[s,int(O[t])] for j in range(N)])\n",
    "        \n",
    "        alpha[:,t]=alpha2[:,t]   \n",
    "        \n",
    "        for s in range(N):\n",
    "            \n",
    "            alpha[s,t] =alpha[s,t]/asum\n",
    "        \n",
    "    forwardprob = np.sum(alpha,0)\n",
    "        \n",
    "    logZ = np.log(forwardprob)\n",
    "    \n",
    "    return forwardprob, alpha, logZ"
   ]
  },
  {
   "cell_type": "raw",
   "metadata": {},
   "source": [
    "# Trevor's old code\n",
    "def backward(O,A,B):\n",
    "    T = O.shape[0]\n",
    "    \n",
    "    N = A.shape[0]\n",
    "    \n",
    "    beta = np.empty((N, T))# p(z_t|y_{1:T})\n",
    "    beta2 = np.empty((N, T))# p(z_t|y_{1:T})\n",
    "    beta[:,-1] = 1\n",
    "            \n",
    "    beta[:,-1] = beta[:,-1]/sum(beta[s,-1] for s in range(N))\n",
    "       \n",
    "    for t in reversed(0, T - 1):  # this gives the wrong iteration range\n",
    "        \n",
    "        # here and below, you're not summing over the correct indices\n",
    "        # the state index for beta and B should *agree* on the backward pass\n",
    "        # and you need to transpose the indices on A\n",
    "        bsum=sum([sum([beta[j,t]*A[j,s]*B[s,int(O[t])] for j in range(N)]) for s in range(N)])\n",
    "        \n",
    "        for s in range(N):\n",
    "            \n",
    "            beta2[s,t-1]=sum([beta[j,t]*A[j,s]*B[s,int(O[t])] for j in range(N)])\n",
    "            \n",
    "        beta[:,t-1]=beta2[:,t-1] \n",
    "        \n",
    "        for s in range(N):\n",
    "            \n",
    "            beta[s,t-1]=beta[s,t-1]/bsum\n",
    "            \n",
    "    backwardprob = np.sum(beta,0)\n",
    "    \n",
    "    return backwardprob, beta"
   ]
  },
  {
   "cell_type": "code",
   "execution_count": 11,
   "metadata": {},
   "outputs": [],
   "source": [
    "def backward(O,A,B):\n",
    "    T = O.shape[0]\n",
    "    \n",
    "    N = A.shape[0]\n",
    "    \n",
    "    beta = np.empty((N, T))# p(z_t|y_{1:T})\n",
    "    beta2 = np.empty((N, T))# p(z_t|y_{1:T})\n",
    "    beta[:,-1] = 1\n",
    "            \n",
    "    beta[:,-1] = beta[:,-1]/sum(beta[s,-1] for s in range(N))\n",
    "       \n",
    "    for t in range(T - 1, 0, -1):\n",
    "        \n",
    "        bsum=sum([sum([beta[j,t]*A[s,j]*B[j,int(O[t])] for j in range(N)]) for s in range(N)])\n",
    "        \n",
    "        for s in range(N):\n",
    "            \n",
    "            beta2[s,t-1]=sum([beta[j,t]*A[s,j]*B[j,int(O[t])] for j in range(N)])\n",
    "            \n",
    "        beta[:,t-1]=beta2[:,t-1] \n",
    "        \n",
    "        for s in range(N):\n",
    "            \n",
    "            beta[s,t-1]=beta[s,t-1]/bsum\n",
    "            \n",
    "    backwardprob = np.sum(beta,0)\n",
    "    \n",
    "    return backwardprob, beta"
   ]
  },
  {
   "cell_type": "code",
   "execution_count": 12,
   "metadata": {},
   "outputs": [],
   "source": [
    "def gamma_solver(alpha, beta):\n",
    "    \n",
    "    N, T= alpha.shape\n",
    "    \n",
    "    gamma = np.empty((N,T))\n",
    "    \n",
    "    for t in range(T):\n",
    "        gamsum=0.0\n",
    "        for s in range(N):\n",
    "            \n",
    "            gamma[s,t] = (alpha[s,t] * beta[s,t])\n",
    "            \n",
    "            gamsum +=gamma[s,t]\n",
    "        \n",
    "        for s in range(N):\n",
    "            \n",
    "            gamma[s,t] =gamma[s,t]/gamsum\n",
    "     \n",
    "    return gamma"
   ]
  },
  {
   "cell_type": "code",
   "execution_count": 13,
   "metadata": {},
   "outputs": [],
   "source": [
    "forwardprob, alpha, logZ = forward(O, A, B, pi)"
   ]
  },
  {
   "cell_type": "code",
   "execution_count": 14,
   "metadata": {},
   "outputs": [
    {
     "data": {
      "text/plain": [
       "Text(0.5, 1.05, \"John's alpha\")"
      ]
     },
     "execution_count": 14,
     "metadata": {},
     "output_type": "execute_result"
    },
    {
     "data": {
      "image/png": "[encoded data removed]",
      "text/plain": [
       "<Figure size 1152x144 with 1 Axes>"
      ]
     },
     "metadata": {
      "needs_background": "light"
     },
     "output_type": "display_data"
    },
    {
     "data": {
      "image/png": "[encoded data removed]",
      "text/plain": [
       "<Figure size 1152x144 with 1 Axes>"
      ]
     },
     "metadata": {
      "needs_background": "light"
     },
     "output_type": "display_data"
    }
   ],
   "source": [
    "plt.matshow(alpha, vmin=0, vmax=1)\n",
    "plt.title(\"Trevor's alpha\")\n",
    "\n",
    "plt.matshow(jv['alpha'].T, vmin=0, vmax=1)\n",
    "plt.title(\"John's alpha\")"
   ]
  },
  {
   "cell_type": "code",
   "execution_count": 15,
   "metadata": {},
   "outputs": [],
   "source": [
    "backwardprob, beta = backward(O, A, B)"
   ]
  },
  {
   "cell_type": "code",
   "execution_count": 16,
   "metadata": {},
   "outputs": [
    {
     "data": {
      "text/plain": [
       "Text(0.5, 1.05, \"John's beta\")"
      ]
     },
     "execution_count": 16,
     "metadata": {},
     "output_type": "execute_result"
    },
    {
     "data": {
      "image/png": "[encoded data removed]",
      "text/plain": [
       "<Figure size 1152x144 with 1 Axes>"
      ]
     },
     "metadata": {
      "needs_background": "light"
     },
     "output_type": "display_data"
    },
    {
     "data": {
      "image/png": "[encoded data removed]",
      "text/plain": [
       "<Figure size 1152x144 with 1 Axes>"
      ]
     },
     "metadata": {
      "needs_background": "light"
     },
     "output_type": "display_data"
    }
   ],
   "source": [
    "plt.matshow(beta)\n",
    "plt.title(\"Trevor's beta\")\n",
    "\n",
    "plt.matshow(jv['beta'].T)\n",
    "plt.title(\"John's beta\")"
   ]
  },
  {
   "cell_type": "code",
   "execution_count": 17,
   "metadata": {},
   "outputs": [],
   "source": [
    "gamma = gamma_solver(alpha, beta)"
   ]
  },
  {
   "cell_type": "code",
   "execution_count": 18,
   "metadata": {},
   "outputs": [
    {
     "data": {
      "text/plain": [
       "Text(0.5, 1.05, \"John's gamma\")"
      ]
     },
     "execution_count": 18,
     "metadata": {},
     "output_type": "execute_result"
    },
    {
     "data": {
      "image/png": "[encoded data removed]",
      "text/plain": [
       "<Figure size 1152x144 with 1 Axes>"
      ]
     },
     "metadata": {
      "needs_background": "light"
     },
     "output_type": "display_data"
    },
    {
     "data": {
      "image/png": "[encoded data removed]",
      "text/plain": [
       "<Figure size 1152x144 with 1 Axes>"
      ]
     },
     "metadata": {
      "needs_background": "light"
     },
     "output_type": "display_data"
    }
   ],
   "source": [
    "plt.matshow(gamma)\n",
    "plt.title(\"Trevor's gamma\")\n",
    "\n",
    "plt.matshow(jv['gamma'].T)\n",
    "plt.title(\"John's gamma\")"
   ]
  },
  {
   "cell_type": "code",
   "execution_count": 47,
   "metadata": {},
   "outputs": [],
   "source": [
    "def delta_solver(alpha,beta,A,B):\n",
    "\n",
    "    N, T = alpha.shape\n",
    "    \n",
    "    delta = np.empty((N,N,T))\n",
    "    \n",
    "    for t in range(T-1):\n",
    "        \n",
    "        for s in range(N):\n",
    "            \n",
    "            for j in range(N):\n",
    "                \n",
    "                delta[s,j,t]= alpha[s,t]*A_guess[s,j]*B_guess[j,int(O[t+1])-1]*beta[j,t+1]/alpha[-1,-1]\n",
    "                \n",
    "    deltaprob = np.sum(delta,0)\n",
    "    \n",
    "    delta=delta/deltaprob\n",
    "    \n",
    "    return delta"
   ]
  },
  {
   "cell_type": "code",
   "execution_count": 48,
   "metadata": {},
   "outputs": [],
   "source": [
    "def EM(A_guess,B_guess,O,iterate,pi):\n",
    "\n",
    "    for step in range(iterate):  \n",
    "\n",
    "        N, Nobservations = B_guess.shape\n",
    "\n",
    "        T = O.shape[0]\n",
    "\n",
    "        forwardprob, alpha, logZ = forward(O,A_guess,B_guess, pi)\n",
    "\n",
    "        backwardprob, beta = backward(O,A_guess,B_guess)\n",
    "        \n",
    "\n",
    "        gamma=gamma_solver(alpha,beta)\n",
    "\n",
    "        delta=delta_solver(alpha,beta,A_guess,B_guess)\n",
    "        \n",
    "        for v in range(Nobservations):\n",
    "            \n",
    "            for j in range(N):\n",
    "                \n",
    "                B_guess[j,v]=sum([gamma[j,t] for t in range(T) if v==O[t]])/sum([gamma[j,t] for t in range(T)])\n",
    "                \n",
    "        for s in range(N):\n",
    "            \n",
    "            for j in range(N):\n",
    "                \n",
    "                 A_guess[s,j]= sum(delta[s,j,t] for t in range(T-1))/sum(np.sum(delta[s,:,t],0) for t in range(T-1))\n",
    "    \n",
    "    A=A_guess\n",
    "    B=B_guess\n",
    "    return A, B, alpha, beta, gamma, forwardprob"
   ]
  },
  {
   "cell_type": "code",
   "execution_count": 43,
   "metadata": {},
   "outputs": [
    {
     "ename": "NameError",
     "evalue": "name 'A_guess' is not defined",
     "output_type": "error",
     "traceback": [
      "\u001b[0;31m---------------------------------------------------------------------------\u001b[0m",
      "\u001b[0;31mNameError\u001b[0m                                 Traceback (most recent call last)",
      "\u001b[0;32m<ipython-input-43-ecd4ebdb4a65>\u001b[0m in \u001b[0;36m<module>\u001b[0;34m\u001b[0m\n\u001b[1;32m      4\u001b[0m \u001b[0;34m\u001b[0m\u001b[0m\n\u001b[1;32m      5\u001b[0m \u001b[0;34m\u001b[0m\u001b[0m\n\u001b[0;32m----> 6\u001b[0;31m \u001b[0mA_New\u001b[0m\u001b[0;34m,\u001b[0m \u001b[0mB_New\u001b[0m\u001b[0;34m,\u001b[0m \u001b[0malpha4\u001b[0m\u001b[0;34m,\u001b[0m \u001b[0mbeta4\u001b[0m\u001b[0;34m,\u001b[0m \u001b[0mgamma\u001b[0m\u001b[0;34m,\u001b[0m \u001b[0mforwardprob\u001b[0m \u001b[0;34m=\u001b[0m\u001b[0mEM\u001b[0m\u001b[0;34m(\u001b[0m\u001b[0mA\u001b[0m\u001b[0;34m,\u001b[0m\u001b[0mB\u001b[0m\u001b[0;34m,\u001b[0m\u001b[0mO\u001b[0m\u001b[0;34m,\u001b[0m\u001b[0;36m1\u001b[0m\u001b[0;34m,\u001b[0m\u001b[0mpi\u001b[0m\u001b[0;34m)\u001b[0m\u001b[0;34m\u001b[0m\u001b[0;34m\u001b[0m\u001b[0m\n\u001b[0m\u001b[1;32m      7\u001b[0m \u001b[0;34m\u001b[0m\u001b[0m\n\u001b[1;32m      8\u001b[0m \u001b[0mplt\u001b[0m\u001b[0;34m.\u001b[0m\u001b[0mmatshow\u001b[0m\u001b[0;34m(\u001b[0m\u001b[0mstates\u001b[0m\u001b[0;34m)\u001b[0m\u001b[0;34m\u001b[0m\u001b[0;34m\u001b[0m\u001b[0m\n",
      "\u001b[0;32m<ipython-input-41-e0ac04191446>\u001b[0m in \u001b[0;36mEM\u001b[0;34m(A_guess, B_guess, O, iterate, pi)\u001b[0m\n\u001b[1;32m    125\u001b[0m         \u001b[0mgamma\u001b[0m\u001b[0;34m=\u001b[0m\u001b[0mgamma_solver\u001b[0m\u001b[0;34m(\u001b[0m\u001b[0malpha\u001b[0m\u001b[0;34m,\u001b[0m\u001b[0mbeta\u001b[0m\u001b[0;34m)\u001b[0m\u001b[0;34m\u001b[0m\u001b[0;34m\u001b[0m\u001b[0m\n\u001b[1;32m    126\u001b[0m \u001b[0;34m\u001b[0m\u001b[0m\n\u001b[0;32m--> 127\u001b[0;31m         \u001b[0mdelta\u001b[0m\u001b[0;34m=\u001b[0m\u001b[0mdelta_solver\u001b[0m\u001b[0;34m(\u001b[0m\u001b[0malpha\u001b[0m\u001b[0;34m,\u001b[0m\u001b[0mbeta\u001b[0m\u001b[0;34m,\u001b[0m\u001b[0mA_guess\u001b[0m\u001b[0;34m,\u001b[0m\u001b[0mB_guess\u001b[0m\u001b[0;34m)\u001b[0m\u001b[0;34m\u001b[0m\u001b[0;34m\u001b[0m\u001b[0m\n\u001b[0m\u001b[1;32m    128\u001b[0m \u001b[0;34m\u001b[0m\u001b[0m\n\u001b[1;32m    129\u001b[0m         \u001b[0;32mfor\u001b[0m \u001b[0mv\u001b[0m \u001b[0;32min\u001b[0m \u001b[0mrange\u001b[0m\u001b[0;34m(\u001b[0m\u001b[0mNobservations\u001b[0m\u001b[0;34m)\u001b[0m\u001b[0;34m:\u001b[0m\u001b[0;34m\u001b[0m\u001b[0;34m\u001b[0m\u001b[0m\n",
      "\u001b[0;32m<ipython-input-41-e0ac04191446>\u001b[0m in \u001b[0;36mdelta_solver\u001b[0;34m(alpha, beta, A, B)\u001b[0m\n\u001b[1;32m    102\u001b[0m             \u001b[0;32mfor\u001b[0m \u001b[0mj\u001b[0m \u001b[0;32min\u001b[0m \u001b[0mrange\u001b[0m\u001b[0;34m(\u001b[0m\u001b[0mN\u001b[0m\u001b[0;34m)\u001b[0m\u001b[0;34m:\u001b[0m\u001b[0;34m\u001b[0m\u001b[0;34m\u001b[0m\u001b[0m\n\u001b[1;32m    103\u001b[0m \u001b[0;34m\u001b[0m\u001b[0m\n\u001b[0;32m--> 104\u001b[0;31m                 \u001b[0mdelta\u001b[0m\u001b[0;34m[\u001b[0m\u001b[0ms\u001b[0m\u001b[0;34m,\u001b[0m\u001b[0mj\u001b[0m\u001b[0;34m,\u001b[0m\u001b[0mt\u001b[0m\u001b[0;34m]\u001b[0m\u001b[0;34m=\u001b[0m \u001b[0malpha\u001b[0m\u001b[0;34m[\u001b[0m\u001b[0ms\u001b[0m\u001b[0;34m,\u001b[0m\u001b[0mt\u001b[0m\u001b[0;34m]\u001b[0m\u001b[0;34m*\u001b[0m\u001b[0mA_guess\u001b[0m\u001b[0;34m[\u001b[0m\u001b[0ms\u001b[0m\u001b[0;34m,\u001b[0m\u001b[0mj\u001b[0m\u001b[0;34m]\u001b[0m\u001b[0;34m*\u001b[0m\u001b[0mB_guess\u001b[0m\u001b[0;34m[\u001b[0m\u001b[0mj\u001b[0m\u001b[0;34m,\u001b[0m\u001b[0mint\u001b[0m\u001b[0;34m(\u001b[0m\u001b[0mO\u001b[0m\u001b[0;34m[\u001b[0m\u001b[0mt\u001b[0m\u001b[0;34m+\u001b[0m\u001b[0;36m1\u001b[0m\u001b[0;34m]\u001b[0m\u001b[0;34m)\u001b[0m\u001b[0;34m-\u001b[0m\u001b[0;36m1\u001b[0m\u001b[0;34m]\u001b[0m\u001b[0;34m*\u001b[0m\u001b[0mbeta\u001b[0m\u001b[0;34m[\u001b[0m\u001b[0mj\u001b[0m\u001b[0;34m,\u001b[0m\u001b[0mt\u001b[0m\u001b[0;34m+\u001b[0m\u001b[0;36m1\u001b[0m\u001b[0;34m]\u001b[0m\u001b[0;34m/\u001b[0m\u001b[0malpha\u001b[0m\u001b[0;34m[\u001b[0m\u001b[0;34m-\u001b[0m\u001b[0;36m1\u001b[0m\u001b[0;34m,\u001b[0m\u001b[0;34m-\u001b[0m\u001b[0;36m1\u001b[0m\u001b[0;34m]\u001b[0m\u001b[0;34m\u001b[0m\u001b[0;34m\u001b[0m\u001b[0m\n\u001b[0m\u001b[1;32m    105\u001b[0m \u001b[0;34m\u001b[0m\u001b[0m\n\u001b[1;32m    106\u001b[0m     \u001b[0mdeltaprob\u001b[0m \u001b[0;34m=\u001b[0m \u001b[0mnp\u001b[0m\u001b[0;34m.\u001b[0m\u001b[0msum\u001b[0m\u001b[0;34m(\u001b[0m\u001b[0mdelta\u001b[0m\u001b[0;34m,\u001b[0m\u001b[0;36m0\u001b[0m\u001b[0;34m)\u001b[0m\u001b[0;34m\u001b[0m\u001b[0;34m\u001b[0m\u001b[0m\n",
      "\u001b[0;31mNameError\u001b[0m: name 'A_guess' is not defined"
     ]
    }
   ],
   "source": [
    "A = np.array([[.6, .4, ], [.5, .5]])\n",
    "B = np.array([[.2, .4, .4], [.5, .4, .1]])\n",
    "pi=[.8,.2]\n",
    "\n",
    "\n",
    "A_New, B_New, alpha4, beta4, gamma, forwardprob =EM(A,B,O,1,pi)\n",
    "\n",
    "plt.matshow(states)\n",
    "plt.title('states')\n",
    "plt.matshow(alpha4, vmin=0,vmax=1)\n",
    "plt.title('Trevor''s alpha')\n",
    "plt.matshow(beta4, vmin=0, vmax=1)\n",
    "plt.title('Trevor''s beta')\n",
    "plt.matshow(gamma, vmin=0, vmax=1)\n",
    "plt.title('Trevor''s gamma')"
   ]
  },
  {
   "cell_type": "code",
   "execution_count": 35,
   "metadata": {},
   "outputs": [
    {
     "data": {
      "text/plain": [
       "Text(0.5, 1.05, 'Trevors gamma')"
      ]
     },
     "execution_count": 35,
     "metadata": {},
     "output_type": "execute_result"
    },
    {
     "data": {
      "image/png": "[encoded data removed]",
      "text/plain": [
       "<Figure size 1152x144 with 1 Axes>"
      ]
     },
     "metadata": {
      "needs_background": "light"
     },
     "output_type": "display_data"
    },
    {
     "data": {
      "image/png": "[encoded data removed]",
      "text/plain": [
       "<Figure size 1152x144 with 1 Axes>"
      ]
     },
     "metadata": {
      "needs_background": "light"
     },
     "output_type": "display_data"
    },
    {
     "data": {
      "image/png": "[encoded data removed]",
      "text/plain": [
       "<Figure size 1152x144 with 1 Axes>"
      ]
     },
     "metadata": {
      "needs_background": "light"
     },
     "output_type": "display_data"
    },
    {
     "data": {
      "image/png": "[encoded data removed]",
      "text/plain": [
       "<Figure size 1152x144 with 1 Axes>"
      ]
     },
     "metadata": {
      "needs_background": "light"
     },
     "output_type": "display_data"
    },
    {
     "data": {
      "image/png": "[encoded data removed]",
      "text/plain": [
       "<Figure size 1152x144 with 1 Axes>"
      ]
     },
     "metadata": {
      "needs_background": "light"
     },
     "output_type": "display_data"
    },
    {
     "data": {
      "image/png": "[encoded data removed]",
      "text/plain": [
       "<Figure size 1152x144 with 1 Axes>"
      ]
     },
     "metadata": {
      "needs_background": "light"
     },
     "output_type": "display_data"
    }
   ],
   "source": [
    "A = np.array([[.6, .4, ], [.5, .5]])\n",
    "B = np.array([[.2, .4, .4], [.5, .4, .1]])\n",
    "pi=[.8,.2]\n",
    "J_gamma, uh2, uh3= fb_infer(np.array(A).T,np.array(pi),np.array(B[:,O.astype(int)]).T)\n",
    "plt.matshow(alpha4,vmin=0, vmax=1)\n",
    "plt.title('Trevor''s alpha')\n",
    "plt.matshow(beta4, vmin=0, vmax=1)\n",
    "plt.title('Trevor''s beta')\n",
    "plt.matshow(J_gamma.T, vmin=0, vmax=1)\n",
    "plt.title('John''s gamma')\n",
    "plt.matshow(gamma, vmin=0, vmax=1)\n",
    "plt.title('Trevor''s gamma')\n",
    "\n"
   ]
  },
  {
   "cell_type": "markdown",
   "metadata": {},
   "source": [
    "When I added v_min=0 and v_max=1 to your beta on the plot the distinction became more clear as to why alpha seems to dominate the gamma in your fb_infer. But I couldn't figure out why or how yours was different"
   ]
  },
  {
   "cell_type": "code",
   "execution_count": null,
   "metadata": {},
   "outputs": [],
   "source": []
  }
 ],
 "metadata": {
  "kernelspec": {
   "display_name": "Python [anaconda3]",
   "language": "python",
   "name": "Python [anaconda3]"
  },
  "language_info": {
   "codemirror_mode": {
    "name": "ipython",
    "version": 3
   },
   "file_extension": ".py",
   "mimetype": "text/x-python",
   "name": "python",
   "nbconvert_exporter": "python",
   "pygments_lexer": "ipython3",
   "version": "3.8.3"
  }
 },
 "nbformat": 4,
 "nbformat_minor": 4
}
