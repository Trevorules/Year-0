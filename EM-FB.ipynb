{
 "cells": [
  {
   "cell_type": "code",
   "execution_count": 1,
   "metadata": {},
   "outputs": [],
   "source": [
    "import random\n",
    "import numpy as np\n",
    "import matplotlib.pyplot as plt\n",
    "import forward_backward as fb\n",
    "import gen_states_and_observation as gso\n",
    "np.random.seed(12345)"
   ]
  },
  {
   "cell_type": "code",
   "execution_count": 3,
   "metadata": {
    "scrolled": true
   },
   "outputs": [],
   "source": [
    "#initialize paramaters\n",
    "pi=np.array([.8,.2])\n",
    "A = np.array([[.6, .4 ], [.2, .8]])\n",
    "#B = np.array([[.9, .05, .05], [.05, .05, .9]])\n",
    "B = np.array([[.2, .4, .4], [.5, .4, .1]])\n",
    "Ntimes=5000\n",
    "\n",
    "\n",
    "#initialize states and observations\n",
    "Q, states, O, O_mat=gso.gen(pi,A,B,Ntimes)\n",
    "\n",
    "#Q is the vector of states. \n",
    "#states is th matrix of states\n",
    "#O is a vector of observations\n",
    "#O_mat is the matrix of observations"
   ]
  },
  {
   "cell_type": "code",
   "execution_count": 4,
   "metadata": {
    "scrolled": true
   },
   "outputs": [
    {
     "data": {
      "text/plain": [
       "<matplotlib.image.AxesImage at 0x20d43b05358>"
      ]
     },
     "execution_count": 4,
     "metadata": {},
     "output_type": "execute_result"
    },
    {
     "data": {
      "image/png": "[encoded data removed]",
      "text/plain": [
       "<Figure size 1152x144 with 1 Axes>"
      ]
     },
     "metadata": {
      "needs_background": "light"
     },
     "output_type": "display_data"
    }
   ],
   "source": [
    "plt.matshow(states)"
   ]
  },
  {
   "cell_type": "code",
   "execution_count": 5,
   "metadata": {
    "scrolled": true
   },
   "outputs": [
    {
     "data": {
      "text/plain": [
       "<matplotlib.image.AxesImage at 0x20d43b8f438>"
      ]
     },
     "execution_count": 5,
     "metadata": {},
     "output_type": "execute_result"
    },
    {
     "data": {
      "image/png": "[encoded data removed]",
      "text/plain": [
       "<Figure size 1152x144 with 1 Axes>"
      ]
     },
     "metadata": {
      "needs_background": "light"
     },
     "output_type": "display_data"
    }
   ],
   "source": [
    "plt.matshow(O_mat)    \n",
    "\n",
    "#Generate observations from the state\n",
    "#do forward to due to the probabliities"
   ]
  },
  {
   "cell_type": "markdown",
   "metadata": {},
   "source": [
    "# Run forward-backward to recover states (assuming $A$, $\\pi$, $B$ known)"
   ]
  },
  {
   "cell_type": "markdown",
   "metadata": {},
   "source": [
    "First, let's check against John's code:"
   ]
  },
  {
   "cell_type": "code",
   "execution_count": 267,
   "metadata": {},
   "outputs": [
    {
     "data": {
      "text/plain": [
       "<matplotlib.image.AxesImage at 0x206ee32c7b8>"
      ]
     },
     "execution_count": 267,
     "metadata": {},
     "output_type": "execute_result"
    },
    {
     "data": {
      "image/png": "[encoded data removed]",
      "text/plain": [
       "<Figure size 1152x144 with 1 Axes>"
      ]
     },
     "metadata": {
      "needs_background": "light"
     },
     "output_type": "display_data"
    }
   ],
   "source": [
    "# make an array that's p(obs_t | z_t) for each possible z at each time (Ntimes x Nstates)\n",
    "psi = np.array([B[:, o] for o in O])\n",
    "\n",
    "post, logZ, Xi = fb.fb_infer(A.T, pi, psi)\n",
    "\n",
    "plt.matshow(post.T)"
   ]
  },
  {
   "cell_type": "code",
   "execution_count": 268,
   "metadata": {},
   "outputs": [],
   "source": [
    "# get intermediate quantitites from John's implementation\n",
    "\n",
    "def john_setup(psi, A, pi):\n",
    "    \"\"\"\n",
    "    Note: Uses John's conventions for A (i.e., columns sum to 1)\n",
    "    \"\"\"\n",
    "\n",
    "    jv = dict()\n",
    "    T = psi.shape[0]\n",
    "    M = A.shape[0]\n",
    "    jv['T'] = T\n",
    "    jv['M'] = M\n",
    "\n",
    "    # initialize empty variables\n",
    "    jv['alpha'] = np.empty((jv['T'], M))  # p(z_t|y_{1:T})\n",
    "    jv['beta'] = np.empty((T, M))  # p(y_{t+1:T}|z_t) (unnormalized)\n",
    "    jv['gamma'] = np.empty((T, M))  # p(z_t|y_{1:T}) (posterior)\n",
    "    jv['logZ'] = np.empty(T)  # log partition function\n",
    "    jv['Xi'] = np.empty((T - 1, M, M))\n",
    "\n",
    "    # initialize\n",
    "    a = psi[0] * pi\n",
    "    jv['a'] = a\n",
    "    jv['alpha'][0] = a / np.sum(a)\n",
    "    jv['logZ'][0] = np.log(np.sum(a))\n",
    "    jv['beta'][-1, :] = 1\n",
    "    jv['beta'][-1, :] = jv['beta'][-1, :] / np.sum(jv['beta'][-1, :])\n",
    "    \n",
    "    return jv\n",
    "\n",
    "jv = john_setup(psi, A, pi)\n",
    "\n",
    "fb.forward(psi, A.T, jv['alpha'], jv['logZ'], jv['a'])\n",
    "fb.backward(psi, A.T, jv['beta'], jv['a'])\n",
    "fb.calc_post(jv['alpha'], jv['beta'], jv['gamma'])"
   ]
  },
  {
   "cell_type": "code",
   "execution_count": 269,
   "metadata": {},
   "outputs": [
    {
     "data": {
      "text/plain": [
       "<matplotlib.image.AxesImage at 0x206ee405c18>"
      ]
     },
     "execution_count": 269,
     "metadata": {},
     "output_type": "execute_result"
    },
    {
     "data": {
      "image/png": "[encoded data removed]",
      "text/plain": [
       "<Figure size 1152x144 with 1 Axes>"
      ]
     },
     "metadata": {
      "needs_background": "light"
     },
     "output_type": "display_data"
    },
    {
     "data": {
      "image/png": "[encoded data removed]",
      "text/plain": [
       "<Figure size 1152x144 with 1 Axes>"
      ]
     },
     "metadata": {
      "needs_background": "light"
     },
     "output_type": "display_data"
    },
    {
     "data": {
      "image/png": "[encoded data removed]",
      "text/plain": [
       "<Figure size 1152x144 with 1 Axes>"
      ]
     },
     "metadata": {
      "needs_background": "light"
     },
     "output_type": "display_data"
    },
    {
     "data": {
      "image/png": "[encoded data removed]",
      "text/plain": [
       "<Figure size 1152x144 with 1 Axes>"
      ]
     },
     "metadata": {
      "needs_background": "light"
     },
     "output_type": "display_data"
    }
   ],
   "source": [
    "plt.matshow(jv['alpha'].T)\n",
    "plt.matshow(jv['beta'].T)\n",
    "plt.matshow(jv['gamma'].T)\n",
    "plt.matshow(post.T)"
   ]
  },
  {
   "cell_type": "code",
   "execution_count": 270,
   "metadata": {},
   "outputs": [],
   "source": [
    "def forward(O, A, B, pi):\n",
    "    \n",
    "    T = O.shape[0]\n",
    "    \n",
    "    N = A.shape[0]\n",
    "    \n",
    "    alpha = np.empty((N, T))# p(z_t|y_{1:T})\n",
    "    alpha2 = np.empty((N, T))# p(z_t|y_{1:T})\n",
    "    \n",
    "    alpha[:,0]=pi*B[:,int(O[0])]\n",
    "        \n",
    "    alpha[:,0]=alpha[:,0]/sum(alpha[s,0] for s in range(N))\n",
    "      \n",
    "    for t in range(1,T):\n",
    "        \n",
    "        asum = sum([sum([alpha[j,t-1]*A[j,s]*B[s,int(O[t])]  for j in range(N)]) for s in range(N)])\n",
    "        \n",
    "        for s in range(N):\n",
    "            \n",
    "            alpha2[s,t]=sum([alpha[j,t-1]*A[j,s]*B[s,int(O[t])] for j in range(N)])\n",
    "        \n",
    "        alpha[:,t]=alpha2[:,t]   \n",
    "        \n",
    "        for s in range(N):\n",
    "            \n",
    "            alpha[s,t] =alpha[s,t]/asum\n",
    "        \n",
    "    forwardprob = np.sum(alpha,0)\n",
    "        \n",
    "    logZ = np.log(forwardprob)\n",
    "    \n",
    "    return forwardprob, alpha, logZ"
   ]
  },
  {
   "cell_type": "raw",
   "metadata": {},
   "source": [
    "# Trevor's old code\n",
    "def backward(O,A,B):\n",
    "    T = O.shape[0]\n",
    "    \n",
    "    N = A.shape[0]\n",
    "    \n",
    "    beta = np.empty((N, T))# p(z_t|y_{1:T})\n",
    "    beta2 = np.empty((N, T))# p(z_t|y_{1:T})\n",
    "    beta[:,-1] = 1\n",
    "            \n",
    "    beta[:,-1] = beta[:,-1]/sum(beta[s,-1] for s in range(N))\n",
    "       \n",
    "    for t in reversed(0, T - 1):  # this gives the wrong iteration range\n",
    "        \n",
    "        # here and below, you're not summing over the correct indices\n",
    "        # the state index for beta and B should *agree* on the backward pass\n",
    "        # and you need to transpose the indices on A\n",
    "        bsum=sum([sum([beta[j,t]*A[j,s]*B[s,int(O[t])] for j in range(N)]) for s in range(N)])\n",
    "        \n",
    "        for s in range(N):\n",
    "            \n",
    "            beta2[s,t-1]=sum([beta[j,t]*A[j,s]*B[s,int(O[t])] for j in range(N)])\n",
    "            \n",
    "        beta[:,t-1]=beta2[:,t-1] \n",
    "        \n",
    "        for s in range(N):\n",
    "            \n",
    "            beta[s,t-1]=beta[s,t-1]/bsum\n",
    "            \n",
    "    backwardprob = np.sum(beta,0)\n",
    "    \n",
    "    return backwardprob, beta"
   ]
  },
  {
   "cell_type": "code",
   "execution_count": 271,
   "metadata": {},
   "outputs": [],
   "source": [
    "def backward(O,A,B):\n",
    "    T = O.shape[0]\n",
    "    \n",
    "    N = A.shape[0]\n",
    "    \n",
    "    beta = np.empty((N, T))# p(z_t|y_{1:T})\n",
    "    beta2 = np.empty((N, T))# p(z_t|y_{1:T})\n",
    "    beta[:,-1] = 1\n",
    "            \n",
    "    beta[:,-1] = beta[:,-1]/sum(beta[s,-1] for s in range(N))\n",
    "       \n",
    "    for t in range(T - 1, 0, -1):\n",
    "        \n",
    "        bsum=sum([sum([beta[j,t]*A[s,j]*B[j,int(O[t])] for j in range(N)]) for s in range(N)])\n",
    "        \n",
    "        for s in range(N):\n",
    "            \n",
    "            beta2[s,t-1]=sum([beta[j,t]*A[s,j]*B[j,int(O[t])] for j in range(N)])\n",
    "            \n",
    "        beta[:,t-1]=beta2[:,t-1] \n",
    "        \n",
    "        for s in range(N):\n",
    "            \n",
    "            beta[s,t-1]=beta[s,t-1]/bsum\n",
    "            \n",
    "    backwardprob = np.sum(beta,0)\n",
    "    \n",
    "    return backwardprob, beta"
   ]
  },
  {
   "cell_type": "code",
   "execution_count": 272,
   "metadata": {},
   "outputs": [],
   "source": [
    "def gamma_solver(alpha, beta):\n",
    "    \n",
    "    N, T= alpha.shape\n",
    "    \n",
    "    gamma = np.empty((N,T))\n",
    "    \n",
    "    for t in range(T):\n",
    "        gamsum=0.0\n",
    "        for s in range(N):\n",
    "            \n",
    "            gamma[s,t] = (alpha[s,t] * beta[s,t])\n",
    "            \n",
    "            gamsum +=gamma[s,t]\n",
    "        \n",
    "        for s in range(N):\n",
    "            \n",
    "            gamma[s,t] =gamma[s,t]/gamsum\n",
    "     \n",
    "    return gamma"
   ]
  },
  {
   "cell_type": "code",
   "execution_count": 273,
   "metadata": {},
   "outputs": [],
   "source": [
    "forwardprob, alpha, logZ = forward(O, A, B, pi)"
   ]
  },
  {
   "cell_type": "code",
   "execution_count": 274,
   "metadata": {},
   "outputs": [
    {
     "data": {
      "text/plain": [
       "Text(0.5, 1.05, \"John's alpha\")"
      ]
     },
     "execution_count": 274,
     "metadata": {},
     "output_type": "execute_result"
    },
    {
     "data": {
      "image/png": "[encoded data removed]",
      "text/plain": [
       "<Figure size 1152x144 with 1 Axes>"
      ]
     },
     "metadata": {
      "needs_background": "light"
     },
     "output_type": "display_data"
    },
    {
     "data": {
      "image/png": "[encoded data removed]",
      "text/plain": [
       "<Figure size 1152x144 with 1 Axes>"
      ]
     },
     "metadata": {
      "needs_background": "light"
     },
     "output_type": "display_data"
    }
   ],
   "source": [
    "plt.matshow(alpha[:,0:100], vmin=0, vmax=1)\n",
    "plt.title(\"Trevor's alpha\")\n",
    "\n",
    "plt.matshow(jv['alpha'].T[:,0:100], vmin=0, vmax=1)\n",
    "plt.title(\"John's alpha\")"
   ]
  },
  {
   "cell_type": "code",
   "execution_count": 275,
   "metadata": {},
   "outputs": [],
   "source": [
    "backwardprob, beta = backward(O, A, B)"
   ]
  },
  {
   "cell_type": "code",
   "execution_count": 276,
   "metadata": {},
   "outputs": [
    {
     "data": {
      "text/plain": [
       "Text(0.5, 1.05, \"John's beta\")"
      ]
     },
     "execution_count": 276,
     "metadata": {},
     "output_type": "execute_result"
    },
    {
     "data": {
      "image/png": "[encoded data removed]",
      "text/plain": [
       "<Figure size 1152x144 with 1 Axes>"
      ]
     },
     "metadata": {
      "needs_background": "light"
     },
     "output_type": "display_data"
    },
    {
     "data": {
      "image/png": "[encoded data removed]",
      "text/plain": [
       "<Figure size 1152x144 with 1 Axes>"
      ]
     },
     "metadata": {
      "needs_background": "light"
     },
     "output_type": "display_data"
    }
   ],
   "source": [
    "plt.matshow(beta)\n",
    "plt.title(\"Trevor's beta\")\n",
    "\n",
    "plt.matshow(jv['beta'].T)\n",
    "plt.title(\"John's beta\")"
   ]
  },
  {
   "cell_type": "code",
   "execution_count": 277,
   "metadata": {},
   "outputs": [],
   "source": [
    "gamma = gamma_solver(alpha, beta)"
   ]
  },
  {
   "cell_type": "code",
   "execution_count": 278,
   "metadata": {},
   "outputs": [
    {
     "data": {
      "text/plain": [
       "Text(0.5, 1.05, \"John's gamma\")"
      ]
     },
     "execution_count": 278,
     "metadata": {},
     "output_type": "execute_result"
    },
    {
     "data": {
      "image/png": "[encoded data removed]",
      "text/plain": [
       "<Figure size 1152x144 with 1 Axes>"
      ]
     },
     "metadata": {
      "needs_background": "light"
     },
     "output_type": "display_data"
    },
    {
     "data": {
      "image/png": "[encoded data removed]",
      "text/plain": [
       "<Figure size 1152x144 with 1 Axes>"
      ]
     },
     "metadata": {
      "needs_background": "light"
     },
     "output_type": "display_data"
    },
    {
     "data": {
      "image/png": "[encoded data removed]",
      "text/plain": [
       "<Figure size 1152x144 with 1 Axes>"
      ]
     },
     "metadata": {
      "needs_background": "light"
     },
     "output_type": "display_data"
    },
    {
     "data": {
      "image/png": "[encoded data removed]",
      "text/plain": [
       "<Figure size 1152x144 with 1 Axes>"
      ]
     },
     "metadata": {
      "needs_background": "light"
     },
     "output_type": "display_data"
    },
    {
     "data": {
      "image/png": "[encoded data removed]",
      "text/plain": [
       "<Figure size 1152x144 with 1 Axes>"
      ]
     },
     "metadata": {
      "needs_background": "light"
     },
     "output_type": "display_data"
    }
   ],
   "source": [
    "plt.matshow(states[:,0:100])\n",
    "plt.title('states')\n",
    "\n",
    "plt.matshow(alpha[:,0:100], vmin=0, vmax=1)\n",
    "plt.title(\"Trevor's alpha\")\n",
    "\n",
    "plt.matshow(jv['alpha'].T[:,0:100], vmin=0, vmax=1)\n",
    "plt.title(\"John's alpha\")\n",
    "\n",
    "plt.matshow(gamma[:,0:100])\n",
    "plt.title(\"Trevor's gamma\")\n",
    "\n",
    "plt.matshow(jv['gamma'].T[:,0:100])\n",
    "plt.title(\"John's gamma\")"
   ]
  },
  {
   "cell_type": "code",
   "execution_count": 279,
   "metadata": {},
   "outputs": [],
   "source": [
    "def delta_solver(alpha,beta,A_guess,B_guess):\n",
    "\n",
    "    N, T = alpha.shape\n",
    "    \n",
    "    delta = np.empty((N,N,T-1))\n",
    "    \n",
    "    deltasum=0.0\n",
    "    for t in range(T-1):\n",
    "        deltasum=0.0\n",
    "            \n",
    "        for s in range(N):\n",
    "            \n",
    "            for j in range(N):\n",
    "                \n",
    "                delta[s,j,t]= alpha[s,t]*A_guess[s,j]*B_guess[j,int(O[t+1])]*beta[j,t+1]\n",
    "                \n",
    "                deltasum +=delta[s,j,t]\n",
    "                \n",
    "        for s in range(N):\n",
    "            \n",
    "            for j in range(N):\n",
    "                \n",
    "                delta[s,j,t]= delta[s,j,t]/deltasum     \n",
    "        \n",
    "    deltaprob = np.sum(delta,0)\n",
    "    \n",
    "    return delta"
   ]
  },
  {
   "cell_type": "code",
   "execution_count": 289,
   "metadata": {},
   "outputs": [],
   "source": [
    "def EM(A_guess,B_guess,O,iterate,pi):\n",
    "    \n",
    "    err=np.zeros(iterate)\n",
    "    \n",
    "    err2=np.zeros(iterate)\n",
    "    \n",
    "    A_true = np.array([[.9, .1 ], [.2, .8]])\n",
    "    \n",
    "    B_true = np.array([[.2, .4, .4], [.5, .4, .1]])\n",
    "    \n",
    "    B_true = np.array([[.9, .05, .05], [.1, .2, .7]])\n",
    "    \n",
    "    N, Nobservations = B_guess.shape\n",
    "\n",
    "    T = O.shape[0]\n",
    "    \n",
    "    for step in range(iterate): \n",
    "            \n",
    "        forwardprob, alpha, logZ = forward(O,A_guess,B_guess, pi)\n",
    "        \n",
    "        #plt.matshow(alpha)\n",
    "\n",
    "        backwardprob, beta = backward(O,A_guess,B_guess)\n",
    "\n",
    "        gamma=gamma_solver(alpha,beta)\n",
    "\n",
    "        delta=delta_solver(alpha,beta,A_guess,B_guess)\n",
    "\n",
    "        \n",
    "        for v in range(Nobservations):\n",
    "            \n",
    "            for j in range(N):\n",
    "                \n",
    "                B_guess[j,v]=sum([gamma[j,t] for t in range(T) if v==O[t]])/sum([gamma[j,t] for t in range(T)])\n",
    "                \n",
    "        for s in range(N):\n",
    "            \n",
    "            for j in range(N):\n",
    "                \n",
    "                A_guess[s,j]= sum(delta[s,j,t] for t in range(T-1))/sum(np.sum(delta[s,:,t]) for t in range(T-1))\n",
    "                \n",
    "        #print(A_guess)\n",
    "                \n",
    "                \n",
    "            \n",
    "    \n",
    "        err[step]=np.linalg.norm(abs(A_true-A_guess))\n",
    "        err2[step]=np.linalg.norm(abs(B_true-B_guess))\n",
    "    \n",
    "    A=A_guess\n",
    "    B=B_guess\n",
    "    \n",
    "    return A, B, alpha, beta, gamma, forwardprob, err, err2, delta"
   ]
  },
  {
   "cell_type": "code",
   "execution_count": 298,
   "metadata": {},
   "outputs": [
    {
     "name": "stdout",
     "output_type": "stream",
     "text": [
      "Anew is [[0.90230461 0.09769539]\n",
      " [0.20215611 0.79784389]]\n",
      "Bnew is [[0.9031972  0.05087429 0.0459285 ]\n",
      " [0.11555735 0.19608668 0.68835597]]\n"
     ]
    },
    {
     "data": {
      "image/png": "[encoded data removed]",
      "text/plain": [
       "<Figure size 1152x144 with 1 Axes>"
      ]
     },
     "metadata": {
      "needs_background": "light"
     },
     "output_type": "display_data"
    },
    {
     "data": {
      "image/png": "[encoded data removed]",
      "text/plain": [
       "<Figure size 1152x144 with 1 Axes>"
      ]
     },
     "metadata": {
      "needs_background": "light"
     },
     "output_type": "display_data"
    },
    {
     "data": {
      "image/png": "[encoded data removed]",
      "text/plain": [
       "<Figure size 1152x144 with 1 Axes>"
      ]
     },
     "metadata": {
      "needs_background": "light"
     },
     "output_type": "display_data"
    },
    {
     "data": {
      "image/png": "[encoded data removed]",
      "text/plain": [
       "<Figure size 1152x144 with 1 Axes>"
      ]
     },
     "metadata": {
      "needs_background": "light"
     },
     "output_type": "display_data"
    }
   ],
   "source": [
    "A = np.array([[.65, .35 ], [.1, .9]])  #incorrect guesses\n",
    "B = np.array([[.7, .2, .1], [.1, .3, .6]]) #incorrect guesses\n",
    "\n",
    "#A = np.array([[.6, .4 ], [.2, .8]]) #true guess\n",
    "#B= np.array([[.9, .05, .05], [.05, .05, .9]])#true guess\n",
    "\n",
    "pi=[.8,.2]\n",
    "\n",
    "\n",
    "A_New, B_New, alpha4, beta4, gamma, forwardprob, errorA, errorB, delta2 =EM(A,B,O,20,pi)\n",
    "\n",
    "plt.matshow(states[:,50:100])\n",
    "plt.title('states')\n",
    "\n",
    "\n",
    "plt.matshow(alpha4[:,50:100], vmin=0,vmax=1)\n",
    "plt.title('Trevor''s alpha')\n",
    "plt.matshow(beta4)\n",
    "plt.title('Trevor''s beta')\n",
    "plt.matshow(gamma[:,50:100], vmin=0, vmax=1)\n",
    "plt.title('Trevor''s gamma')\n",
    "\n",
    "print('Anew is', A_New)\n",
    "print('Bnew is', B_New)"
   ]
  },
  {
   "cell_type": "code",
   "execution_count": 296,
   "metadata": {},
   "outputs": [
    {
     "name": "stdout",
     "output_type": "stream",
     "text": [
      "[[0.90119642 0.09880358]\n",
      " [0.20166565 0.79833435]]\n",
      "[[0.90500293 0.05051049 0.04448658]\n",
      " [0.11909786 0.19549696 0.68540518]]\n"
     ]
    },
    {
     "data": {
      "text/plain": [
       "[<matplotlib.lines.Line2D at 0x206eea9df60>]"
      ]
     },
     "execution_count": 296,
     "metadata": {},
     "output_type": "execute_result"
    },
    {
     "data": {
      "image/png": "[encoded data removed]",
      "text/plain": [
       "<Figure size 432x288 with 1 Axes>"
      ]
     },
     "metadata": {
      "needs_background": "light"
     },
     "output_type": "display_data"
    }
   ],
   "source": [
    "print(A_New)\n",
    "print(B_New)\n",
    "plt.plot(errorA)\n",
    "plt.plot(errorB)"
   ]
  },
  {
   "cell_type": "code",
   "execution_count": 299,
   "metadata": {},
   "outputs": [
    {
     "name": "stdout",
     "output_type": "stream",
     "text": [
      "[0.04602159 0.01564573 0.00550937 0.00242025 0.0012359  0.00103877\n",
      " 0.00149427 0.00203027 0.00250372 0.00290028 0.0032275  0.00349612\n",
      " 0.00371619 0.00389632 0.0040437  0.00416424 0.00426282 0.00434342\n",
      " 0.00440932 0.00446319]\n",
      "[0.07969788 0.05597546 0.04566501 0.03990938 0.03593319 0.03288642\n",
      " 0.03045413 0.02848312 0.0268776  0.0255676  0.02449819 0.02362507\n",
      " 0.02291217 0.02233007 0.02185473 0.02146653 0.02114945 0.02089043\n",
      " 0.02067882 0.02050591]\n"
     ]
    }
   ],
   "source": [
    "print(errorA)\n",
    "print(errorB)"
   ]
  },
  {
   "cell_type": "code",
   "execution_count": 282,
   "metadata": {},
   "outputs": [
    {
     "name": "stdout",
     "output_type": "stream",
     "text": [
      "[[0.81478236 0.18521764]\n",
      " [0.38537773 0.61462227]]\n",
      "0.9999999999999986\n",
      "With inital guesses correct with 1000 EM-steps and 5000 timesteps\n"
     ]
    },
    {
     "data": {
      "text/plain": [
       "[<matplotlib.lines.Line2D at 0x206e78a5908>]"
      ]
     },
     "execution_count": 282,
     "metadata": {},
     "output_type": "execute_result"
    },
    {
     "data": {
      "image/png": "[encoded data removed]",
      "text/plain": [
       "<Figure size 432x288 with 1 Axes>"
      ]
     },
     "metadata": {
      "needs_background": "light"
     },
     "output_type": "display_data"
    }
   ],
   "source": [
    "print(A_New)\n",
    "print(np.sum(A_New[1,:]))\n",
    "print('With inital guesses correct with 1000 EM-steps and 5000 timesteps')\n",
    "\n",
    "plt.plot(errorA)\n",
    "plt.plot(errorB)"
   ]
  },
  {
   "cell_type": "markdown",
   "metadata": {},
   "source": [
    "With inital guesses correct with 1000 EM-steps and 5000 timesteps"
   ]
  },
  {
   "cell_type": "code",
   "execution_count": 244,
   "metadata": {},
   "outputs": [
    {
     "name": "stdout",
     "output_type": "stream",
     "text": [
      "[[0.59583964 0.40416036]\n",
      " [0.21005509 0.78994491]]\n",
      "1.0000000000000009\n"
     ]
    },
    {
     "data": {
      "text/plain": [
       "[<matplotlib.lines.Line2D at 0x206eac097b8>]"
      ]
     },
     "execution_count": 244,
     "metadata": {},
     "output_type": "execute_result"
    },
    {
     "data": {
      "image/png": "[encoded data removed]",
      "text/plain": [
       "<Figure size 432x288 with 1 Axes>"
      ]
     },
     "metadata": {
      "needs_background": "light"
     },
     "output_type": "display_data"
    }
   ],
   "source": [
    "print(A_New)\n",
    "print(np.sum(A_New[1,:]))\n",
    "\n",
    "\n",
    "plt.plot(errorA)\n",
    "plt.plot(errorB)"
   ]
  },
  {
   "cell_type": "markdown",
   "metadata": {},
   "source": [
    "^^With inital guesses correct with 300 EM-steps and 5000 timesteps^^"
   ]
  },
  {
   "cell_type": "markdown",
   "metadata": {},
   "source": [
    "with initial guesses incorrect, 300 EM-steps and 5000 timesteps"
   ]
  },
  {
   "cell_type": "code",
   "execution_count": 47,
   "metadata": {},
   "outputs": [
    {
     "name": "stdout",
     "output_type": "stream",
     "text": [
      "[[0.78450149 0.21549851]\n",
      " [0.29967178 0.70032822]]\n",
      "[[0.81039979 0.18960021]\n",
      " [0.34812671 0.65187329]]\n",
      "[[0.83740911 0.16259089]\n",
      " [0.40211005 0.59788995]]\n",
      "[[0.86346125 0.13653875]\n",
      " [0.46115554 0.53884446]]\n",
      "[[0.88755393 0.11244607]\n",
      " [0.52424639 0.47575361]]\n",
      "[[0.90910118 0.09089882]\n",
      " [0.58940917 0.41059083]]\n",
      "[[0.92776592 0.07223408]\n",
      " [0.65382278 0.34617722]]\n",
      "[[0.9434294  0.0565706 ]\n",
      " [0.71432117 0.28567883]]\n",
      "[[0.95618091 0.04381909]\n",
      " [0.7681208  0.2318792 ]]\n",
      "[[0.96627757 0.03372243]\n",
      " [0.81340574 0.18659426]]\n",
      "[[0.97407871 0.02592129]\n",
      " [0.84950226 0.15049774]]\n",
      "[[0.97997902 0.02002098]\n",
      " [0.87665357 0.12334643]]\n",
      "[[0.98435843 0.01564157]\n",
      " [0.89558951 0.10441049]]\n",
      "[[0.98755337 0.01244663]\n",
      " [0.90707989 0.09292011]]\n",
      "[[0.98984566 0.01015434]\n",
      " [0.91155716 0.08844284]]\n",
      "[[0.99146284 0.00853716]\n",
      " [0.90880236 0.09119764]]\n",
      "[[0.99258403 0.00741597]\n",
      " [0.89765147 0.10234853]]\n",
      "[[0.99334723 0.00665277]\n",
      " [0.87572018 0.12427982]]\n",
      "[[0.99385621 0.00614379]\n",
      " [0.83932655 0.16067345]]\n",
      "[[0.99418796 0.00581204]\n",
      " [0.78426186 0.21573814]]\n"
     ]
    },
    {
     "ename": "ValueError",
     "evalue": "too many values to unpack (expected 7)",
     "output_type": "error",
     "traceback": [
      "\u001b[1;31m---------------------------------------------------------------------------\u001b[0m",
      "\u001b[1;31mValueError\u001b[0m                                Traceback (most recent call last)",
      "\u001b[1;32m<ipython-input-47-8e0ce95bd073>\u001b[0m in \u001b[0;36m<module>\u001b[1;34m\u001b[0m\n\u001b[0;32m      4\u001b[0m \u001b[1;33m\u001b[0m\u001b[0m\n\u001b[0;32m      5\u001b[0m \u001b[1;33m\u001b[0m\u001b[0m\n\u001b[1;32m----> 6\u001b[1;33m \u001b[0mA_New\u001b[0m\u001b[1;33m,\u001b[0m \u001b[0mB_New\u001b[0m\u001b[1;33m,\u001b[0m \u001b[0malpha4\u001b[0m\u001b[1;33m,\u001b[0m \u001b[0mbeta4\u001b[0m\u001b[1;33m,\u001b[0m \u001b[0mgamma\u001b[0m\u001b[1;33m,\u001b[0m \u001b[0mforwardprob\u001b[0m\u001b[1;33m,\u001b[0m \u001b[0merror\u001b[0m \u001b[1;33m=\u001b[0m\u001b[0mEM\u001b[0m\u001b[1;33m(\u001b[0m\u001b[0mA\u001b[0m\u001b[1;33m,\u001b[0m\u001b[0mB\u001b[0m\u001b[1;33m,\u001b[0m\u001b[0mO\u001b[0m\u001b[1;33m,\u001b[0m\u001b[1;36m20\u001b[0m\u001b[1;33m,\u001b[0m\u001b[0mpi\u001b[0m\u001b[1;33m)\u001b[0m\u001b[1;33m\u001b[0m\u001b[1;33m\u001b[0m\u001b[0m\n\u001b[0m\u001b[0;32m      7\u001b[0m \u001b[1;33m\u001b[0m\u001b[0m\n\u001b[0;32m      8\u001b[0m \u001b[0mplt\u001b[0m\u001b[1;33m.\u001b[0m\u001b[0mmatshow\u001b[0m\u001b[1;33m(\u001b[0m\u001b[0mstates\u001b[0m\u001b[1;33m)\u001b[0m\u001b[1;33m\u001b[0m\u001b[1;33m\u001b[0m\u001b[0m\n",
      "\u001b[1;31mValueError\u001b[0m: too many values to unpack (expected 7)"
     ]
    }
   ],
   "source": [
    "A = np.array([[.8, .2, ], [.3, .7]])\n",
    "B = np.array([[.2, .4, .4], [.5, .4, .1]])\n",
    "pi=[.8,.2]\n",
    "\n",
    "\n",
    "A_New, B_New, alpha4, beta4, gamma, forwardprob, error =EM(A,B,O,20,pi)\n",
    "\n",
    "plt.matshow(states)\n",
    "plt.title('states')\n",
    "plt.matshow(alpha4, vmin=0,vmax=1)\n",
    "plt.title('Trevor''s alpha')\n",
    "plt.matshow(beta4)\n",
    "plt.title('Trevor''s beta')\n",
    "plt.matshow(gamma, vmin=0, vmax=1)\n",
    "plt.title('Trevor''s gamma')\n",
    "\n",
    "print('Anew is', A_New)\n",
    "print('Bnew is', B_New)"
   ]
  },
  {
   "cell_type": "code",
   "execution_count": 143,
   "metadata": {},
   "outputs": [
    {
     "name": "stdout",
     "output_type": "stream",
     "text": [
      "218.2747879955918\n",
      "653.93186615648\n"
     ]
    },
    {
     "data": {
      "text/plain": [
       "0.666156202143951"
      ]
     },
     "execution_count": 143,
     "metadata": {},
     "output_type": "execute_result"
    }
   ],
   "source": [
    "print(sum(delta2[0,1,t] for t in range(1000)))\n",
    "print(sum(np.sum(delta2[0,:,t]) for t in range(1000)) )\n",
    "\n",
    "435/653"
   ]
  },
  {
   "cell_type": "code",
   "execution_count": 28,
   "metadata": {},
   "outputs": [
    {
     "ename": "NameError",
     "evalue": "name 'fb_infer' is not defined",
     "output_type": "error",
     "traceback": [
      "\u001b[1;31m---------------------------------------------------------------------------\u001b[0m",
      "\u001b[1;31mNameError\u001b[0m                                 Traceback (most recent call last)",
      "\u001b[1;32m<ipython-input-28-95f79dcd2c3a>\u001b[0m in \u001b[0;36m<module>\u001b[1;34m\u001b[0m\n\u001b[0;32m      2\u001b[0m \u001b[0mB\u001b[0m \u001b[1;33m=\u001b[0m \u001b[0mnp\u001b[0m\u001b[1;33m.\u001b[0m\u001b[0marray\u001b[0m\u001b[1;33m(\u001b[0m\u001b[1;33m[\u001b[0m\u001b[1;33m[\u001b[0m\u001b[1;36m.2\u001b[0m\u001b[1;33m,\u001b[0m \u001b[1;36m.4\u001b[0m\u001b[1;33m,\u001b[0m \u001b[1;36m.4\u001b[0m\u001b[1;33m]\u001b[0m\u001b[1;33m,\u001b[0m \u001b[1;33m[\u001b[0m\u001b[1;36m.5\u001b[0m\u001b[1;33m,\u001b[0m \u001b[1;36m.4\u001b[0m\u001b[1;33m,\u001b[0m \u001b[1;36m.1\u001b[0m\u001b[1;33m]\u001b[0m\u001b[1;33m]\u001b[0m\u001b[1;33m)\u001b[0m\u001b[1;33m\u001b[0m\u001b[1;33m\u001b[0m\u001b[0m\n\u001b[0;32m      3\u001b[0m \u001b[0mpi\u001b[0m\u001b[1;33m=\u001b[0m\u001b[1;33m[\u001b[0m\u001b[1;36m.8\u001b[0m\u001b[1;33m,\u001b[0m\u001b[1;36m.2\u001b[0m\u001b[1;33m]\u001b[0m\u001b[1;33m\u001b[0m\u001b[1;33m\u001b[0m\u001b[0m\n\u001b[1;32m----> 4\u001b[1;33m \u001b[0mJ_gamma\u001b[0m\u001b[1;33m,\u001b[0m \u001b[0muh2\u001b[0m\u001b[1;33m,\u001b[0m \u001b[0muh3\u001b[0m\u001b[1;33m=\u001b[0m \u001b[0mfb_infer\u001b[0m\u001b[1;33m(\u001b[0m\u001b[0mnp\u001b[0m\u001b[1;33m.\u001b[0m\u001b[0marray\u001b[0m\u001b[1;33m(\u001b[0m\u001b[0mA\u001b[0m\u001b[1;33m)\u001b[0m\u001b[1;33m.\u001b[0m\u001b[0mT\u001b[0m\u001b[1;33m,\u001b[0m\u001b[0mnp\u001b[0m\u001b[1;33m.\u001b[0m\u001b[0marray\u001b[0m\u001b[1;33m(\u001b[0m\u001b[0mpi\u001b[0m\u001b[1;33m)\u001b[0m\u001b[1;33m,\u001b[0m\u001b[0mnp\u001b[0m\u001b[1;33m.\u001b[0m\u001b[0marray\u001b[0m\u001b[1;33m(\u001b[0m\u001b[0mB\u001b[0m\u001b[1;33m[\u001b[0m\u001b[1;33m:\u001b[0m\u001b[1;33m,\u001b[0m\u001b[0mO\u001b[0m\u001b[1;33m.\u001b[0m\u001b[0mastype\u001b[0m\u001b[1;33m(\u001b[0m\u001b[0mint\u001b[0m\u001b[1;33m)\u001b[0m\u001b[1;33m]\u001b[0m\u001b[1;33m)\u001b[0m\u001b[1;33m.\u001b[0m\u001b[0mT\u001b[0m\u001b[1;33m)\u001b[0m\u001b[1;33m\u001b[0m\u001b[1;33m\u001b[0m\u001b[0m\n\u001b[0m\u001b[0;32m      5\u001b[0m \u001b[0mplt\u001b[0m\u001b[1;33m.\u001b[0m\u001b[0mmatshow\u001b[0m\u001b[1;33m(\u001b[0m\u001b[0malpha4\u001b[0m\u001b[1;33m,\u001b[0m\u001b[0mvmin\u001b[0m\u001b[1;33m=\u001b[0m\u001b[1;36m0\u001b[0m\u001b[1;33m,\u001b[0m \u001b[0mvmax\u001b[0m\u001b[1;33m=\u001b[0m\u001b[1;36m1\u001b[0m\u001b[1;33m)\u001b[0m\u001b[1;33m\u001b[0m\u001b[1;33m\u001b[0m\u001b[0m\n\u001b[0;32m      6\u001b[0m \u001b[0mplt\u001b[0m\u001b[1;33m.\u001b[0m\u001b[0mtitle\u001b[0m\u001b[1;33m(\u001b[0m\u001b[1;34m'Trevor'\u001b[0m\u001b[1;34m's alpha'\u001b[0m\u001b[1;33m)\u001b[0m\u001b[1;33m\u001b[0m\u001b[1;33m\u001b[0m\u001b[0m\n",
      "\u001b[1;31mNameError\u001b[0m: name 'fb_infer' is not defined"
     ]
    }
   ],
   "source": [
    "A = np.array([[.6, .4, ], [.5, .5]])\n",
    "B = np.array([[.2, .4, .4], [.5, .4, .1]])\n",
    "pi=[.8,.2]\n",
    "J_gamma, uh2, uh3= fb_infer(np.array(A).T,np.array(pi),np.array(B[:,O.astype(int)]).T)\n",
    "plt.matshow(alpha4,vmin=0, vmax=1)\n",
    "plt.title('Trevor''s alpha')\n",
    "plt.matshow(beta4, vmin=0, vmax=1)\n",
    "plt.title('Trevor''s beta')\n",
    "plt.matshow(J_gamma.T, vmin=0, vmax=1)\n",
    "plt.title('John''s gamma')\n",
    "plt.matshow(gamma, vmin=0, vmax=1)\n",
    "plt.title('Trevor''s gamma')\n",
    "\n"
   ]
  },
  {
   "cell_type": "code",
   "execution_count": 283,
   "metadata": {},
   "outputs": [],
   "source": [
    "O=np.loadtxt('O')\n",
    "Q=np.loadtxt('Q')"
   ]
  },
  {
   "cell_type": "code",
   "execution_count": 287,
   "metadata": {
    "scrolled": true
   },
   "outputs": [
    {
     "data": {
      "text/plain": [
       "array([1., 2., 1., ..., 1., 2., 0.])"
      ]
     },
     "execution_count": 287,
     "metadata": {},
     "output_type": "execute_result"
    }
   ],
   "source": [
    "O"
   ]
  },
  {
   "cell_type": "markdown",
   "metadata": {},
   "source": [
    "When I added v_min=0 and v_max=1 to your beta on the plot the distinction became more clear as to why alpha seems to dominate the gamma in your fb_infer. But I couldn't figure out why or how yours was different"
   ]
  }
 ],
 "metadata": {
  "kernelspec": {
   "display_name": "Python 3",
   "language": "python",
   "name": "python3"
  },
  "language_info": {
   "codemirror_mode": {
    "name": "ipython",
    "version": 3
   },
   "file_extension": ".py",
   "mimetype": "text/x-python",
   "name": "python",
   "nbconvert_exporter": "python",
   "pygments_lexer": "ipython3",
   "version": "3.7.1"
  }
 },
 "nbformat": 4,
 "nbformat_minor": 4
}
